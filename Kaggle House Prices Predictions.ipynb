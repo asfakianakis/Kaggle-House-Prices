{
 "cells": [
  {
   "cell_type": "markdown",
   "metadata": {},
   "source": [
    "# Introduction"
   ]
  },
  {
   "cell_type": "markdown",
   "metadata": {},
   "source": [
    "This notebook contains, step-by-step, the procedure I followed, from feature engineering to final predictions, for the \"House Prices: Advanced Regression Techniques\" Kaggle Competition and follows the EDA presented on the other notebook. It results on RMSE = 0.14179. After the feature engineering part, i tried some base models and combined them to a simple averaging ensemble and a stacked model.\n",
    "\n",
    "When i find some time, i aim to experiment with different features as inputs, base and stacked models for further improvement.\n",
    "\n",
    "The notebook is organized on the following sections:\n",
    "\n",
    "- [Feature Engineering](#section1)\n",
    "- [Data Preparation](#section2)\n",
    "- [Feature Selection](#section3)\n",
    "- [Base Models](#section4)\n",
    "- [Ensemble Model](#section5)\n",
    "- [Stacked Model](#section6)\n",
    "- [Keras Model](#section7)"
   ]
  },
  {
   "cell_type": "code",
   "execution_count": 202,
   "metadata": {},
   "outputs": [],
   "source": [
    "import pandas as pd\n",
    "import numpy as np\n",
    "import matplotlib.pyplot as plt\n",
    "import seaborn as sns\n",
    "from functools import reduce\n",
    "from sklearn.feature_selection import RFECV\n",
    "from sklearn.base import clone\n",
    "from sklearn.model_selection import train_test_split, KFold, StratifiedKFold, cross_val_score, GridSearchCV\n",
    "from sklearn.metrics import mean_squared_error, make_scorer\n",
    "from sklearn.preprocessing import StandardScaler\n",
    "from sklearn.linear_model import LinearRegression, Ridge, Lasso, ElasticNet, RidgeCV, LassoCV, ElasticNetCV\n",
    "from sklearn.ensemble import AdaBoostRegressor, BaggingRegressor, ExtraTreesRegressor, GradientBoostingRegressor, \\\n",
    "RandomForestRegressor, VotingClassifier\n",
    "from xgboost import XGBRegressor\n",
    "\n",
    "% matplotlib inline\n",
    "pd.set_option('display.max_columns', None)\n",
    "pd.options.mode.chained_assignment = None  # default='warn'"
   ]
  },
  {
   "cell_type": "code",
   "execution_count": 2,
   "metadata": {
    "collapsed": true
   },
   "outputs": [],
   "source": [
    "# Load data\n",
    "train = pd.read_csv(\"train_house.csv\")\n",
    "test = pd.read_csv(\"test_house.csv\")"
   ]
  },
  {
   "cell_type": "code",
   "execution_count": 3,
   "metadata": {},
   "outputs": [
    {
     "data": {
      "text/plain": [
       "((1460, 81), (1459, 80))"
      ]
     },
     "execution_count": 3,
     "metadata": {},
     "output_type": "execute_result"
    }
   ],
   "source": [
    "train.shape, test.shape"
   ]
  },
  {
   "cell_type": "markdown",
   "metadata": {},
   "source": [
    "<a id=\"section1\"></a>"
   ]
  },
  {
   "cell_type": "markdown",
   "metadata": {},
   "source": [
    "# Feature Engineering"
   ]
  },
  {
   "cell_type": "code",
   "execution_count": 4,
   "metadata": {
    "collapsed": true
   },
   "outputs": [],
   "source": [
    "def DropLargeNAs(df):\n",
    "    \n",
    "    \"\"\"\n",
    "    Drop columns that have more than 50% missing values\n",
    "    \"\"\"\n",
    "    \n",
    "    cols_to_keep = [col for col in df.columns if (df[col].isnull().sum() * 100) / (df.shape[0]) < 40]\n",
    "    cols_to_remove = [col for col in df.columns if col not in cols_to_keep]\n",
    "    \n",
    "    return df[cols_to_keep]\n",
    "\n",
    "\n",
    "\n",
    "def ImputeMissingValues(df):\n",
    "    \n",
    "    \"\"\"\n",
    "    For categorical features fill NAs with mode\n",
    "    For numerical features fill NAs with median\n",
    "    \"\"\"\n",
    "    \n",
    "    cols_with_nas = [col for col in df.columns if (df[col].isnull().sum() * 100) / (df.shape[0]) > 0]\n",
    "    \n",
    "    # Impute numerical values\n",
    "    for col in cols_with_nas:\n",
    "        \n",
    "        if df[col].dtype == \"object\":\n",
    "            df[col] = df[col].fillna(df[col].dropna().mode()[0])\n",
    "            \n",
    "        else:\n",
    "            df[col] = df[col].fillna(df[col].dropna().median())\n",
    "\n",
    "    \n",
    "    return df\n",
    "\n",
    "\n",
    "\n",
    "def LogTargetVariable(df):\n",
    "    \n",
    "    \"\"\"\n",
    "    Take the log of the target variable.\n",
    "    Obviosuly this function can be applied only to training set.\n",
    "    \"\"\"\n",
    "    \n",
    "    df[\"Log_SalePrice\"] = df[\"SalePrice\"].map(lambda x: np.log10(x))\n",
    "    return df\n",
    "\n",
    "\n",
    "\n",
    "def MapFeatures(df):\n",
    "    \n",
    "    \"\"\"\n",
    "    Some features in the given dataset are encoded as categorical, whereas they are actually numerical,\n",
    "    since there is an inherent ordering. In the same sense, there are numerical features that are actually categorical.\n",
    "    \"\"\"\n",
    "    \n",
    "    # Map ctegorical to numerical\n",
    "    df[\"LotShape\"] = df[\"LotShape\"].map({'Reg': 0, 'IR1': 1, 'IR2': 2, 'IR3': 3})\n",
    "    df[\"ExterQual\"] = df[\"ExterQual\"].map({\"Ex\": 4, \"Gd\": 3, \"TA\": 2, \"Fa\": 1, \"Po\": 0})\n",
    "    df[\"ExterCond\"] = df[\"ExterCond\"].map({\"Ex\": 4, \"Gd\": 3, \"TA\": 2, \"Fa\": 1, \"Po\": 0})\n",
    "    df[\"BsmtQual\"] = df[\"BsmtQual\"].map({\"Ex\": 5, \"Gd\": 4, \"TA\": 3, \"Fa\": 2, \"Po\": 1, \"NA\": 0})\n",
    "    df[\"BsmtCond\"] = df[\"BsmtCond\"].map({\"Ex\": 5, \"Gd\": 4, \"TA\": 3, \"Fa\": 2, \"Po\": 1, \"NA\": 0})\n",
    "    df[\"BsmtExposure\"] = df[\"BsmtExposure\"].map({\"Gd\": 4, \"Av\": 3, \"Mn\": 2, \"No\": 1, \"NA\": 0})\n",
    "    df[\"HeatingQC\"] = df[\"HeatingQC\"].map({\"Ex\": 4, \"Gd\": 3, \"TA\": 2, \"Fa\": 1, \"Po\": 0})\n",
    "    df[\"KitchenQual\"] = df[\"KitchenQual\"].map({\"Ex\": 4, \"Gd\": 3, \"TA\": 2, \"Fa\": 1, \"Po\": 0})\n",
    "    df[\"GarageQual\"] = df[\"GarageQual\"].map({\"Ex\": 5, \"Gd\": 4, \"TA\": 3, \"Fa\": 2, \"Po\": 1, \"NA\": 0})\n",
    "    df[\"GarageCond\"] = df[\"GarageCond\"].map({\"Ex\": 5, \"Gd\": 4, \"TA\": 3, \"Fa\": 2, \"Po\": 1, \"NA\": 0})\n",
    "    \n",
    "    \n",
    "    # Map numerical to categorical\n",
    "    df[\"MSSubClass\"] = df[\"MSSubClass\"].map({20: \"SC20\", 60: \"SC60\", 50: \"SC50\", 120: \"SC120\", 30: \"SC30\", 160: \"SC160\", \n",
    "                                             70: \"SC70\", 80: \"SC80\", 90: \"SC90\", 190: \"SC190\", 85: \"SC85\", 75: \"SC75\", \n",
    "                                             45: \"SC45\", 180: \"SC180\", 40: \"SC40\"})\n",
    "    \n",
    "    ## Alterantively all in one\n",
    "    ##df3 = df3.replace({\"LotShape\": {'Reg': , 'IR1': , 'IR2': , 'IR3': }}, ....})\n",
    "    \n",
    "    return df\n",
    "\n",
    "\n",
    "\n",
    "def NewFeatures(df):\n",
    "    \n",
    "    \"\"\"\n",
    "    Create new features from the original ones.\n",
    "    \"\"\"\n",
    "    \n",
    "    # GrLivArea\n",
    "    df[\"GrLivArea_log\"] = df[\"GrLivArea\"].map(lambda x: np.log10(x))\n",
    "    \n",
    "    # LotFrontage\n",
    "    df[\"LotFrontage_log\"] = df[\"LotFrontage\"].map(lambda x: np.log10(x+10))\n",
    "    df[\"LotFrontage_sqrt\"] = df[\"LotFrontage\"].map(lambda x: np.sqrt(x+10))\n",
    "    \n",
    "    # Lot Area\n",
    "    df[\"LotArea_log\"] = df[\"LotArea\"].map(lambda x: np.log10(x+10))\n",
    "    df[\"LotArea_sqrt\"] = df[\"LotArea\"].map(lambda x: np.sqrt(x+10))\n",
    "    \n",
    "    # MasVnrArea\n",
    "    df[\"MasVnrArea_log\"] = df[\"MasVnrArea\"].map(lambda x: np.log10(x+10))\n",
    "    df[\"MasVnrArea_sqrt\"] = df[\"MasVnrArea\"].map(lambda x: np.sqrt(x+10))\n",
    "    \n",
    "    # BsmtFinSF1\n",
    "    df[\"BsmtFinSF1_log\"] = df[\"BsmtFinSF1\"].map(lambda x: np.log10(x+10))\n",
    "    df[\"BsmtFinSF1_sqrt\"] = df[\"BsmtFinSF1\"].map(lambda x: np.sqrt(x+10))\n",
    "    \n",
    "    \n",
    "    # BsmtUnfSF\n",
    "    df[\"BsmtUnfSF_log\"] = df[\"BsmtUnfSF\"].map(lambda x: np.log10(x+100))\n",
    "    df[\"BsmtUnfSF_sqrt\"] = df[\"BsmtUnfSF\"].map(lambda x: np.sqrt(x+10))\n",
    "    \n",
    "    # 1stFlrSF\n",
    "    df[\"1stFlrSF_log\"] = df[\"1stFlrSF\"].map(lambda x: np.log10(x))\n",
    "    df[\"1stFlrSF_sqrt\"] = df[\"1stFlrSF\"].map(lambda x: np.sqrt(x))\n",
    "    \n",
    "    # 2ndFlrSF\n",
    "    df[\"2ndFlrSF_log\"] = df[\"2ndFlrSF\"].map(lambda x: np.log10(x+100))\n",
    "    df[\"2ndFlrSF_sqrt\"] = df[\"2ndFlrSF\"].map(lambda x: np.sqrt(x+100))\n",
    "    \n",
    "    # GarageArea\n",
    "    df[\"GarageArea_log\"] = df[\"GarageArea\"].map(lambda x: np.log10(x+100))\n",
    "    df[\"GarageArea_sqrt\"] = df[\"GarageArea\"].map(lambda x: np.sqrt(x+100))\n",
    "    \n",
    "    # WoodDeckSF\n",
    "    df[\"WoodDeckSF_log\"] = df[\"WoodDeckSF\"].map(lambda x: np.log10(x+100))\n",
    "    df[\"WoodDeckSF_sqrt\"] = df[\"WoodDeckSF\"].map(lambda x: np.sqrt(x+100))\n",
    "    \n",
    "    # OpenPorchSF\n",
    "    df[\"OpenPorchSF_log\"] = df[\"OpenPorchSF\"].map(lambda x: np.log10(x+100))\n",
    "    df[\"OpenPorchSF_sqrt\"] = df[\"OpenPorchSF\"].map(lambda x: np.sqrt(x+100))\n",
    "    \n",
    "    # Overall Score\n",
    "    df[\"OverallScore\"] = df[\"OverallQual\"] * df[\"OverallCond\"]\n",
    "    \n",
    "    # Exterior Score\n",
    "    df[\"ExtScore\"] = df[\"ExterQual\"] * df[\"ExterCond\"]\n",
    "    \n",
    "    # Garage Score\n",
    "    df[\"GarageScore\"] = df[\"GarageQual\"] * df[\"GarageCond\"]\n",
    "    \n",
    "    # Bsmt Score\n",
    "    df[\"BsmtScore\"] = df[\"BsmtQual\"] * df[\"BsmtCond\"]\n",
    "    \n",
    "    # Total SF\n",
    "    df[\"TotalSF\"] = df[\"1stFlrSF\"] + df[\"2ndFlrSF\"]\n",
    "    \n",
    "    # Outdoor spaces\n",
    "    df[\"OutdoorSF\"] = df[\"GarageArea\"] + df[\"WoodDeckSF\"] + df[\"OpenPorchSF\"] + df[\"EnclosedPorch\"] + \\\n",
    "                      df[\"3SsnPorch\"] + df[\"ScreenPorch\"] + df[\"PoolArea\"]\n",
    "    \n",
    "    \n",
    "    return df\n",
    "\n",
    "\n",
    "    \n",
    "def dropUselessFeatures(df):\n",
    "    \n",
    "    useless_features = [\"Id\", \"Street\", \"Utilities\", \"LandSlope\", \"Condition2\", \"RoofStyle\", \"RoofMatl\", \"BsmtFinType1\", \"BsmtFinType2\",\n",
    "                        \"BsmtFinSF2\", \"LowQualFinSF\", \"BsmtFullBath\", \"BsmtHalfBath\", \"HalfBath\", \"BedroomAbvGr\", \"KitchenAbvGr\",\n",
    "                        \"3SsnPorch\", \"ScreenPorch\", \"PoolArea\", \"MiscVal\", \"MoSold\", \"YrSold\"\n",
    "                       ]\n",
    "    \n",
    "    df.drop(useless_features, axis = 1, inplace = True)\n",
    "    \n",
    "    return df\n",
    "\n",
    "\n",
    "def pipeline_func(data, fncs):\n",
    "    \n",
    "    \"\"\"\n",
    "    Create a pipeline of functions to apply to train and test datasets.\n",
    "    \n",
    "    The function reduce(func, seq) continually applies the function func() to the sequence seq. It returns a single value. \n",
    "    If seq = [ s1, s2, s3, ... , sn ], calling reduce(func, seq) works like this:\n",
    "        --- At first the first two elements of seq will be applied to func, i.e. func(s1,s2). The list on which reduce()\n",
    "            works looks now like this: [ func(s1, s2), s3, ... , sn ].\n",
    "        --- In the next step func will be applied on the previous result and the third element of the list, i.e. \n",
    "            func(func(s1, s2),s3).\n",
    "        --- The list looks like this now: [ func(func(s1, s2),s3), ... , sn ].\n",
    "    \"\"\"\n",
    "    \n",
    "    return reduce(lambda a,x: x(a), fncs, data)\n",
    "    "
   ]
  },
  {
   "cell_type": "markdown",
   "metadata": {},
   "source": [
    "Let's prepeare train and test sets:"
   ]
  },
  {
   "cell_type": "code",
   "execution_count": 5,
   "metadata": {
    "collapsed": true
   },
   "outputs": [],
   "source": [
    "train_functions = [DropLargeNAs, ImputeMissingValues, LogTargetVariable, MapFeatures, NewFeatures, dropUselessFeatures]\n",
    "test_functions = [DropLargeNAs, ImputeMissingValues, MapFeatures, NewFeatures, dropUselessFeatures]"
   ]
  },
  {
   "cell_type": "code",
   "execution_count": 6,
   "metadata": {
    "collapsed": true
   },
   "outputs": [],
   "source": [
    "train_eng = pipeline_func(train, train_functions)\n",
    "test_eng = pipeline_func(test, test_functions)"
   ]
  },
  {
   "cell_type": "code",
   "execution_count": 7,
   "metadata": {},
   "outputs": [
    {
     "data": {
      "text/plain": [
       "((1460, 82), (1459, 80))"
      ]
     },
     "execution_count": 7,
     "metadata": {},
     "output_type": "execute_result"
    }
   ],
   "source": [
    "train_eng.shape, test_eng.shape"
   ]
  },
  {
   "cell_type": "code",
   "execution_count": 8,
   "metadata": {},
   "outputs": [
    {
     "data": {
      "text/html": [
       "<div>\n",
       "<style>\n",
       "    .dataframe thead tr:only-child th {\n",
       "        text-align: right;\n",
       "    }\n",
       "\n",
       "    .dataframe thead th {\n",
       "        text-align: left;\n",
       "    }\n",
       "\n",
       "    .dataframe tbody tr th {\n",
       "        vertical-align: top;\n",
       "    }\n",
       "</style>\n",
       "<table border=\"1\" class=\"dataframe\">\n",
       "  <thead>\n",
       "    <tr style=\"text-align: right;\">\n",
       "      <th></th>\n",
       "      <th>MSSubClass</th>\n",
       "      <th>MSZoning</th>\n",
       "      <th>LotFrontage</th>\n",
       "      <th>LotArea</th>\n",
       "      <th>LotShape</th>\n",
       "      <th>LandContour</th>\n",
       "      <th>LotConfig</th>\n",
       "      <th>Neighborhood</th>\n",
       "      <th>Condition1</th>\n",
       "      <th>BldgType</th>\n",
       "      <th>HouseStyle</th>\n",
       "      <th>OverallQual</th>\n",
       "      <th>OverallCond</th>\n",
       "      <th>YearBuilt</th>\n",
       "      <th>YearRemodAdd</th>\n",
       "      <th>Exterior1st</th>\n",
       "      <th>Exterior2nd</th>\n",
       "      <th>MasVnrType</th>\n",
       "      <th>MasVnrArea</th>\n",
       "      <th>ExterQual</th>\n",
       "      <th>ExterCond</th>\n",
       "      <th>Foundation</th>\n",
       "      <th>BsmtQual</th>\n",
       "      <th>BsmtCond</th>\n",
       "      <th>BsmtExposure</th>\n",
       "      <th>BsmtFinSF1</th>\n",
       "      <th>BsmtUnfSF</th>\n",
       "      <th>TotalBsmtSF</th>\n",
       "      <th>Heating</th>\n",
       "      <th>HeatingQC</th>\n",
       "      <th>CentralAir</th>\n",
       "      <th>Electrical</th>\n",
       "      <th>1stFlrSF</th>\n",
       "      <th>2ndFlrSF</th>\n",
       "      <th>GrLivArea</th>\n",
       "      <th>FullBath</th>\n",
       "      <th>KitchenQual</th>\n",
       "      <th>TotRmsAbvGrd</th>\n",
       "      <th>Functional</th>\n",
       "      <th>Fireplaces</th>\n",
       "      <th>GarageType</th>\n",
       "      <th>GarageYrBlt</th>\n",
       "      <th>GarageFinish</th>\n",
       "      <th>GarageCars</th>\n",
       "      <th>GarageArea</th>\n",
       "      <th>GarageQual</th>\n",
       "      <th>GarageCond</th>\n",
       "      <th>PavedDrive</th>\n",
       "      <th>WoodDeckSF</th>\n",
       "      <th>OpenPorchSF</th>\n",
       "      <th>EnclosedPorch</th>\n",
       "      <th>SaleType</th>\n",
       "      <th>SaleCondition</th>\n",
       "      <th>SalePrice</th>\n",
       "      <th>Log_SalePrice</th>\n",
       "      <th>GrLivArea_log</th>\n",
       "      <th>LotFrontage_log</th>\n",
       "      <th>LotFrontage_sqrt</th>\n",
       "      <th>LotArea_log</th>\n",
       "      <th>LotArea_sqrt</th>\n",
       "      <th>MasVnrArea_log</th>\n",
       "      <th>MasVnrArea_sqrt</th>\n",
       "      <th>BsmtFinSF1_log</th>\n",
       "      <th>BsmtFinSF1_sqrt</th>\n",
       "      <th>BsmtUnfSF_log</th>\n",
       "      <th>BsmtUnfSF_sqrt</th>\n",
       "      <th>1stFlrSF_log</th>\n",
       "      <th>1stFlrSF_sqrt</th>\n",
       "      <th>2ndFlrSF_log</th>\n",
       "      <th>2ndFlrSF_sqrt</th>\n",
       "      <th>GarageArea_log</th>\n",
       "      <th>GarageArea_sqrt</th>\n",
       "      <th>WoodDeckSF_log</th>\n",
       "      <th>WoodDeckSF_sqrt</th>\n",
       "      <th>OpenPorchSF_log</th>\n",
       "      <th>OpenPorchSF_sqrt</th>\n",
       "      <th>OverallScore</th>\n",
       "      <th>ExtScore</th>\n",
       "      <th>GarageScore</th>\n",
       "      <th>BsmtScore</th>\n",
       "      <th>TotalSF</th>\n",
       "      <th>OutdoorSF</th>\n",
       "    </tr>\n",
       "  </thead>\n",
       "  <tbody>\n",
       "    <tr>\n",
       "      <th>0</th>\n",
       "      <td>SC60</td>\n",
       "      <td>RL</td>\n",
       "      <td>65.0</td>\n",
       "      <td>8450</td>\n",
       "      <td>0</td>\n",
       "      <td>Lvl</td>\n",
       "      <td>Inside</td>\n",
       "      <td>CollgCr</td>\n",
       "      <td>Norm</td>\n",
       "      <td>1Fam</td>\n",
       "      <td>2Story</td>\n",
       "      <td>7</td>\n",
       "      <td>5</td>\n",
       "      <td>2003</td>\n",
       "      <td>2003</td>\n",
       "      <td>VinylSd</td>\n",
       "      <td>VinylSd</td>\n",
       "      <td>BrkFace</td>\n",
       "      <td>196.0</td>\n",
       "      <td>3</td>\n",
       "      <td>2</td>\n",
       "      <td>PConc</td>\n",
       "      <td>4</td>\n",
       "      <td>3</td>\n",
       "      <td>1</td>\n",
       "      <td>706</td>\n",
       "      <td>150</td>\n",
       "      <td>856</td>\n",
       "      <td>GasA</td>\n",
       "      <td>4</td>\n",
       "      <td>Y</td>\n",
       "      <td>SBrkr</td>\n",
       "      <td>856</td>\n",
       "      <td>854</td>\n",
       "      <td>1710</td>\n",
       "      <td>2</td>\n",
       "      <td>3</td>\n",
       "      <td>8</td>\n",
       "      <td>Typ</td>\n",
       "      <td>0</td>\n",
       "      <td>Attchd</td>\n",
       "      <td>2003.0</td>\n",
       "      <td>RFn</td>\n",
       "      <td>2</td>\n",
       "      <td>548</td>\n",
       "      <td>3</td>\n",
       "      <td>3</td>\n",
       "      <td>Y</td>\n",
       "      <td>0</td>\n",
       "      <td>61</td>\n",
       "      <td>0</td>\n",
       "      <td>WD</td>\n",
       "      <td>Normal</td>\n",
       "      <td>208500</td>\n",
       "      <td>5.319106</td>\n",
       "      <td>3.232996</td>\n",
       "      <td>1.875061</td>\n",
       "      <td>8.660254</td>\n",
       "      <td>3.927370</td>\n",
       "      <td>91.978258</td>\n",
       "      <td>2.313867</td>\n",
       "      <td>14.352700</td>\n",
       "      <td>2.854913</td>\n",
       "      <td>26.758176</td>\n",
       "      <td>2.397940</td>\n",
       "      <td>12.649111</td>\n",
       "      <td>2.932474</td>\n",
       "      <td>29.257478</td>\n",
       "      <td>2.979548</td>\n",
       "      <td>30.886890</td>\n",
       "      <td>2.811575</td>\n",
       "      <td>25.455844</td>\n",
       "      <td>2.000000</td>\n",
       "      <td>10.000000</td>\n",
       "      <td>2.206826</td>\n",
       "      <td>12.688578</td>\n",
       "      <td>35</td>\n",
       "      <td>6</td>\n",
       "      <td>9</td>\n",
       "      <td>12</td>\n",
       "      <td>1710</td>\n",
       "      <td>609</td>\n",
       "    </tr>\n",
       "    <tr>\n",
       "      <th>1</th>\n",
       "      <td>SC20</td>\n",
       "      <td>RL</td>\n",
       "      <td>80.0</td>\n",
       "      <td>9600</td>\n",
       "      <td>0</td>\n",
       "      <td>Lvl</td>\n",
       "      <td>FR2</td>\n",
       "      <td>Veenker</td>\n",
       "      <td>Feedr</td>\n",
       "      <td>1Fam</td>\n",
       "      <td>1Story</td>\n",
       "      <td>6</td>\n",
       "      <td>8</td>\n",
       "      <td>1976</td>\n",
       "      <td>1976</td>\n",
       "      <td>MetalSd</td>\n",
       "      <td>MetalSd</td>\n",
       "      <td>None</td>\n",
       "      <td>0.0</td>\n",
       "      <td>2</td>\n",
       "      <td>2</td>\n",
       "      <td>CBlock</td>\n",
       "      <td>4</td>\n",
       "      <td>3</td>\n",
       "      <td>4</td>\n",
       "      <td>978</td>\n",
       "      <td>284</td>\n",
       "      <td>1262</td>\n",
       "      <td>GasA</td>\n",
       "      <td>4</td>\n",
       "      <td>Y</td>\n",
       "      <td>SBrkr</td>\n",
       "      <td>1262</td>\n",
       "      <td>0</td>\n",
       "      <td>1262</td>\n",
       "      <td>2</td>\n",
       "      <td>2</td>\n",
       "      <td>6</td>\n",
       "      <td>Typ</td>\n",
       "      <td>1</td>\n",
       "      <td>Attchd</td>\n",
       "      <td>1976.0</td>\n",
       "      <td>RFn</td>\n",
       "      <td>2</td>\n",
       "      <td>460</td>\n",
       "      <td>3</td>\n",
       "      <td>3</td>\n",
       "      <td>Y</td>\n",
       "      <td>298</td>\n",
       "      <td>0</td>\n",
       "      <td>0</td>\n",
       "      <td>WD</td>\n",
       "      <td>Normal</td>\n",
       "      <td>181500</td>\n",
       "      <td>5.258877</td>\n",
       "      <td>3.101059</td>\n",
       "      <td>1.954243</td>\n",
       "      <td>9.486833</td>\n",
       "      <td>3.982723</td>\n",
       "      <td>98.030607</td>\n",
       "      <td>1.000000</td>\n",
       "      <td>3.162278</td>\n",
       "      <td>2.994757</td>\n",
       "      <td>31.432467</td>\n",
       "      <td>2.584331</td>\n",
       "      <td>17.146428</td>\n",
       "      <td>3.101059</td>\n",
       "      <td>35.524639</td>\n",
       "      <td>2.000000</td>\n",
       "      <td>10.000000</td>\n",
       "      <td>2.748188</td>\n",
       "      <td>23.664319</td>\n",
       "      <td>2.599883</td>\n",
       "      <td>19.949937</td>\n",
       "      <td>2.000000</td>\n",
       "      <td>10.000000</td>\n",
       "      <td>48</td>\n",
       "      <td>4</td>\n",
       "      <td>9</td>\n",
       "      <td>12</td>\n",
       "      <td>1262</td>\n",
       "      <td>758</td>\n",
       "    </tr>\n",
       "    <tr>\n",
       "      <th>2</th>\n",
       "      <td>SC60</td>\n",
       "      <td>RL</td>\n",
       "      <td>68.0</td>\n",
       "      <td>11250</td>\n",
       "      <td>1</td>\n",
       "      <td>Lvl</td>\n",
       "      <td>Inside</td>\n",
       "      <td>CollgCr</td>\n",
       "      <td>Norm</td>\n",
       "      <td>1Fam</td>\n",
       "      <td>2Story</td>\n",
       "      <td>7</td>\n",
       "      <td>5</td>\n",
       "      <td>2001</td>\n",
       "      <td>2002</td>\n",
       "      <td>VinylSd</td>\n",
       "      <td>VinylSd</td>\n",
       "      <td>BrkFace</td>\n",
       "      <td>162.0</td>\n",
       "      <td>3</td>\n",
       "      <td>2</td>\n",
       "      <td>PConc</td>\n",
       "      <td>4</td>\n",
       "      <td>3</td>\n",
       "      <td>2</td>\n",
       "      <td>486</td>\n",
       "      <td>434</td>\n",
       "      <td>920</td>\n",
       "      <td>GasA</td>\n",
       "      <td>4</td>\n",
       "      <td>Y</td>\n",
       "      <td>SBrkr</td>\n",
       "      <td>920</td>\n",
       "      <td>866</td>\n",
       "      <td>1786</td>\n",
       "      <td>2</td>\n",
       "      <td>3</td>\n",
       "      <td>6</td>\n",
       "      <td>Typ</td>\n",
       "      <td>1</td>\n",
       "      <td>Attchd</td>\n",
       "      <td>2001.0</td>\n",
       "      <td>RFn</td>\n",
       "      <td>2</td>\n",
       "      <td>608</td>\n",
       "      <td>3</td>\n",
       "      <td>3</td>\n",
       "      <td>Y</td>\n",
       "      <td>0</td>\n",
       "      <td>42</td>\n",
       "      <td>0</td>\n",
       "      <td>WD</td>\n",
       "      <td>Normal</td>\n",
       "      <td>223500</td>\n",
       "      <td>5.349278</td>\n",
       "      <td>3.251881</td>\n",
       "      <td>1.892095</td>\n",
       "      <td>8.831761</td>\n",
       "      <td>4.051538</td>\n",
       "      <td>106.113147</td>\n",
       "      <td>2.235528</td>\n",
       "      <td>13.114877</td>\n",
       "      <td>2.695482</td>\n",
       "      <td>22.271057</td>\n",
       "      <td>2.727541</td>\n",
       "      <td>21.071308</td>\n",
       "      <td>2.963788</td>\n",
       "      <td>30.331502</td>\n",
       "      <td>2.984977</td>\n",
       "      <td>31.080541</td>\n",
       "      <td>2.850033</td>\n",
       "      <td>26.608269</td>\n",
       "      <td>2.000000</td>\n",
       "      <td>10.000000</td>\n",
       "      <td>2.152288</td>\n",
       "      <td>11.916375</td>\n",
       "      <td>35</td>\n",
       "      <td>6</td>\n",
       "      <td>9</td>\n",
       "      <td>12</td>\n",
       "      <td>1786</td>\n",
       "      <td>650</td>\n",
       "    </tr>\n",
       "    <tr>\n",
       "      <th>3</th>\n",
       "      <td>SC70</td>\n",
       "      <td>RL</td>\n",
       "      <td>60.0</td>\n",
       "      <td>9550</td>\n",
       "      <td>1</td>\n",
       "      <td>Lvl</td>\n",
       "      <td>Corner</td>\n",
       "      <td>Crawfor</td>\n",
       "      <td>Norm</td>\n",
       "      <td>1Fam</td>\n",
       "      <td>2Story</td>\n",
       "      <td>7</td>\n",
       "      <td>5</td>\n",
       "      <td>1915</td>\n",
       "      <td>1970</td>\n",
       "      <td>Wd Sdng</td>\n",
       "      <td>Wd Shng</td>\n",
       "      <td>None</td>\n",
       "      <td>0.0</td>\n",
       "      <td>2</td>\n",
       "      <td>2</td>\n",
       "      <td>BrkTil</td>\n",
       "      <td>3</td>\n",
       "      <td>4</td>\n",
       "      <td>1</td>\n",
       "      <td>216</td>\n",
       "      <td>540</td>\n",
       "      <td>756</td>\n",
       "      <td>GasA</td>\n",
       "      <td>3</td>\n",
       "      <td>Y</td>\n",
       "      <td>SBrkr</td>\n",
       "      <td>961</td>\n",
       "      <td>756</td>\n",
       "      <td>1717</td>\n",
       "      <td>1</td>\n",
       "      <td>3</td>\n",
       "      <td>7</td>\n",
       "      <td>Typ</td>\n",
       "      <td>1</td>\n",
       "      <td>Detchd</td>\n",
       "      <td>1998.0</td>\n",
       "      <td>Unf</td>\n",
       "      <td>3</td>\n",
       "      <td>642</td>\n",
       "      <td>3</td>\n",
       "      <td>3</td>\n",
       "      <td>Y</td>\n",
       "      <td>0</td>\n",
       "      <td>35</td>\n",
       "      <td>272</td>\n",
       "      <td>WD</td>\n",
       "      <td>Abnorml</td>\n",
       "      <td>140000</td>\n",
       "      <td>5.146128</td>\n",
       "      <td>3.234770</td>\n",
       "      <td>1.845098</td>\n",
       "      <td>8.366600</td>\n",
       "      <td>3.980458</td>\n",
       "      <td>97.775252</td>\n",
       "      <td>1.000000</td>\n",
       "      <td>3.162278</td>\n",
       "      <td>2.354108</td>\n",
       "      <td>15.033296</td>\n",
       "      <td>2.806180</td>\n",
       "      <td>23.452079</td>\n",
       "      <td>2.982723</td>\n",
       "      <td>31.000000</td>\n",
       "      <td>2.932474</td>\n",
       "      <td>29.257478</td>\n",
       "      <td>2.870404</td>\n",
       "      <td>27.239677</td>\n",
       "      <td>2.000000</td>\n",
       "      <td>10.000000</td>\n",
       "      <td>2.130334</td>\n",
       "      <td>11.618950</td>\n",
       "      <td>35</td>\n",
       "      <td>4</td>\n",
       "      <td>9</td>\n",
       "      <td>12</td>\n",
       "      <td>1717</td>\n",
       "      <td>949</td>\n",
       "    </tr>\n",
       "    <tr>\n",
       "      <th>4</th>\n",
       "      <td>SC60</td>\n",
       "      <td>RL</td>\n",
       "      <td>84.0</td>\n",
       "      <td>14260</td>\n",
       "      <td>1</td>\n",
       "      <td>Lvl</td>\n",
       "      <td>FR2</td>\n",
       "      <td>NoRidge</td>\n",
       "      <td>Norm</td>\n",
       "      <td>1Fam</td>\n",
       "      <td>2Story</td>\n",
       "      <td>8</td>\n",
       "      <td>5</td>\n",
       "      <td>2000</td>\n",
       "      <td>2000</td>\n",
       "      <td>VinylSd</td>\n",
       "      <td>VinylSd</td>\n",
       "      <td>BrkFace</td>\n",
       "      <td>350.0</td>\n",
       "      <td>3</td>\n",
       "      <td>2</td>\n",
       "      <td>PConc</td>\n",
       "      <td>4</td>\n",
       "      <td>3</td>\n",
       "      <td>3</td>\n",
       "      <td>655</td>\n",
       "      <td>490</td>\n",
       "      <td>1145</td>\n",
       "      <td>GasA</td>\n",
       "      <td>4</td>\n",
       "      <td>Y</td>\n",
       "      <td>SBrkr</td>\n",
       "      <td>1145</td>\n",
       "      <td>1053</td>\n",
       "      <td>2198</td>\n",
       "      <td>2</td>\n",
       "      <td>3</td>\n",
       "      <td>9</td>\n",
       "      <td>Typ</td>\n",
       "      <td>1</td>\n",
       "      <td>Attchd</td>\n",
       "      <td>2000.0</td>\n",
       "      <td>RFn</td>\n",
       "      <td>3</td>\n",
       "      <td>836</td>\n",
       "      <td>3</td>\n",
       "      <td>3</td>\n",
       "      <td>Y</td>\n",
       "      <td>192</td>\n",
       "      <td>84</td>\n",
       "      <td>0</td>\n",
       "      <td>WD</td>\n",
       "      <td>Normal</td>\n",
       "      <td>250000</td>\n",
       "      <td>5.397940</td>\n",
       "      <td>3.342028</td>\n",
       "      <td>1.973128</td>\n",
       "      <td>9.695360</td>\n",
       "      <td>4.154424</td>\n",
       "      <td>119.457105</td>\n",
       "      <td>2.556303</td>\n",
       "      <td>18.973666</td>\n",
       "      <td>2.822822</td>\n",
       "      <td>25.787594</td>\n",
       "      <td>2.770852</td>\n",
       "      <td>22.360680</td>\n",
       "      <td>3.058805</td>\n",
       "      <td>33.837849</td>\n",
       "      <td>3.061829</td>\n",
       "      <td>33.955854</td>\n",
       "      <td>2.971276</td>\n",
       "      <td>30.594117</td>\n",
       "      <td>2.465383</td>\n",
       "      <td>17.088007</td>\n",
       "      <td>2.264818</td>\n",
       "      <td>13.564660</td>\n",
       "      <td>40</td>\n",
       "      <td>6</td>\n",
       "      <td>9</td>\n",
       "      <td>12</td>\n",
       "      <td>2198</td>\n",
       "      <td>1112</td>\n",
       "    </tr>\n",
       "  </tbody>\n",
       "</table>\n",
       "</div>"
      ],
      "text/plain": [
       "  MSSubClass MSZoning  LotFrontage  LotArea  LotShape LandContour LotConfig  \\\n",
       "0       SC60       RL         65.0     8450         0         Lvl    Inside   \n",
       "1       SC20       RL         80.0     9600         0         Lvl       FR2   \n",
       "2       SC60       RL         68.0    11250         1         Lvl    Inside   \n",
       "3       SC70       RL         60.0     9550         1         Lvl    Corner   \n",
       "4       SC60       RL         84.0    14260         1         Lvl       FR2   \n",
       "\n",
       "  Neighborhood Condition1 BldgType HouseStyle  OverallQual  OverallCond  \\\n",
       "0      CollgCr       Norm     1Fam     2Story            7            5   \n",
       "1      Veenker      Feedr     1Fam     1Story            6            8   \n",
       "2      CollgCr       Norm     1Fam     2Story            7            5   \n",
       "3      Crawfor       Norm     1Fam     2Story            7            5   \n",
       "4      NoRidge       Norm     1Fam     2Story            8            5   \n",
       "\n",
       "   YearBuilt  YearRemodAdd Exterior1st Exterior2nd MasVnrType  MasVnrArea  \\\n",
       "0       2003          2003     VinylSd     VinylSd    BrkFace       196.0   \n",
       "1       1976          1976     MetalSd     MetalSd       None         0.0   \n",
       "2       2001          2002     VinylSd     VinylSd    BrkFace       162.0   \n",
       "3       1915          1970     Wd Sdng     Wd Shng       None         0.0   \n",
       "4       2000          2000     VinylSd     VinylSd    BrkFace       350.0   \n",
       "\n",
       "   ExterQual  ExterCond Foundation  BsmtQual  BsmtCond  BsmtExposure  \\\n",
       "0          3          2      PConc         4         3             1   \n",
       "1          2          2     CBlock         4         3             4   \n",
       "2          3          2      PConc         4         3             2   \n",
       "3          2          2     BrkTil         3         4             1   \n",
       "4          3          2      PConc         4         3             3   \n",
       "\n",
       "   BsmtFinSF1  BsmtUnfSF  TotalBsmtSF Heating  HeatingQC CentralAir  \\\n",
       "0         706        150          856    GasA          4          Y   \n",
       "1         978        284         1262    GasA          4          Y   \n",
       "2         486        434          920    GasA          4          Y   \n",
       "3         216        540          756    GasA          3          Y   \n",
       "4         655        490         1145    GasA          4          Y   \n",
       "\n",
       "  Electrical  1stFlrSF  2ndFlrSF  GrLivArea  FullBath  KitchenQual  \\\n",
       "0      SBrkr       856       854       1710         2            3   \n",
       "1      SBrkr      1262         0       1262         2            2   \n",
       "2      SBrkr       920       866       1786         2            3   \n",
       "3      SBrkr       961       756       1717         1            3   \n",
       "4      SBrkr      1145      1053       2198         2            3   \n",
       "\n",
       "   TotRmsAbvGrd Functional  Fireplaces GarageType  GarageYrBlt GarageFinish  \\\n",
       "0             8        Typ           0     Attchd       2003.0          RFn   \n",
       "1             6        Typ           1     Attchd       1976.0          RFn   \n",
       "2             6        Typ           1     Attchd       2001.0          RFn   \n",
       "3             7        Typ           1     Detchd       1998.0          Unf   \n",
       "4             9        Typ           1     Attchd       2000.0          RFn   \n",
       "\n",
       "   GarageCars  GarageArea  GarageQual  GarageCond PavedDrive  WoodDeckSF  \\\n",
       "0           2         548           3           3          Y           0   \n",
       "1           2         460           3           3          Y         298   \n",
       "2           2         608           3           3          Y           0   \n",
       "3           3         642           3           3          Y           0   \n",
       "4           3         836           3           3          Y         192   \n",
       "\n",
       "   OpenPorchSF  EnclosedPorch SaleType SaleCondition  SalePrice  \\\n",
       "0           61              0       WD        Normal     208500   \n",
       "1            0              0       WD        Normal     181500   \n",
       "2           42              0       WD        Normal     223500   \n",
       "3           35            272       WD       Abnorml     140000   \n",
       "4           84              0       WD        Normal     250000   \n",
       "\n",
       "   Log_SalePrice  GrLivArea_log  LotFrontage_log  LotFrontage_sqrt  \\\n",
       "0       5.319106       3.232996         1.875061          8.660254   \n",
       "1       5.258877       3.101059         1.954243          9.486833   \n",
       "2       5.349278       3.251881         1.892095          8.831761   \n",
       "3       5.146128       3.234770         1.845098          8.366600   \n",
       "4       5.397940       3.342028         1.973128          9.695360   \n",
       "\n",
       "   LotArea_log  LotArea_sqrt  MasVnrArea_log  MasVnrArea_sqrt  BsmtFinSF1_log  \\\n",
       "0     3.927370     91.978258        2.313867        14.352700        2.854913   \n",
       "1     3.982723     98.030607        1.000000         3.162278        2.994757   \n",
       "2     4.051538    106.113147        2.235528        13.114877        2.695482   \n",
       "3     3.980458     97.775252        1.000000         3.162278        2.354108   \n",
       "4     4.154424    119.457105        2.556303        18.973666        2.822822   \n",
       "\n",
       "   BsmtFinSF1_sqrt  BsmtUnfSF_log  BsmtUnfSF_sqrt  1stFlrSF_log  \\\n",
       "0        26.758176       2.397940       12.649111      2.932474   \n",
       "1        31.432467       2.584331       17.146428      3.101059   \n",
       "2        22.271057       2.727541       21.071308      2.963788   \n",
       "3        15.033296       2.806180       23.452079      2.982723   \n",
       "4        25.787594       2.770852       22.360680      3.058805   \n",
       "\n",
       "   1stFlrSF_sqrt  2ndFlrSF_log  2ndFlrSF_sqrt  GarageArea_log  \\\n",
       "0      29.257478      2.979548      30.886890        2.811575   \n",
       "1      35.524639      2.000000      10.000000        2.748188   \n",
       "2      30.331502      2.984977      31.080541        2.850033   \n",
       "3      31.000000      2.932474      29.257478        2.870404   \n",
       "4      33.837849      3.061829      33.955854        2.971276   \n",
       "\n",
       "   GarageArea_sqrt  WoodDeckSF_log  WoodDeckSF_sqrt  OpenPorchSF_log  \\\n",
       "0        25.455844        2.000000        10.000000         2.206826   \n",
       "1        23.664319        2.599883        19.949937         2.000000   \n",
       "2        26.608269        2.000000        10.000000         2.152288   \n",
       "3        27.239677        2.000000        10.000000         2.130334   \n",
       "4        30.594117        2.465383        17.088007         2.264818   \n",
       "\n",
       "   OpenPorchSF_sqrt  OverallScore  ExtScore  GarageScore  BsmtScore  TotalSF  \\\n",
       "0         12.688578            35         6            9         12     1710   \n",
       "1         10.000000            48         4            9         12     1262   \n",
       "2         11.916375            35         6            9         12     1786   \n",
       "3         11.618950            35         4            9         12     1717   \n",
       "4         13.564660            40         6            9         12     2198   \n",
       "\n",
       "   OutdoorSF  \n",
       "0        609  \n",
       "1        758  \n",
       "2        650  \n",
       "3        949  \n",
       "4       1112  "
      ]
     },
     "execution_count": 8,
     "metadata": {},
     "output_type": "execute_result"
    }
   ],
   "source": [
    "train_eng.head()"
   ]
  },
  {
   "cell_type": "code",
   "execution_count": 9,
   "metadata": {},
   "outputs": [
    {
     "data": {
      "text/html": [
       "<div>\n",
       "<style>\n",
       "    .dataframe thead tr:only-child th {\n",
       "        text-align: right;\n",
       "    }\n",
       "\n",
       "    .dataframe thead th {\n",
       "        text-align: left;\n",
       "    }\n",
       "\n",
       "    .dataframe tbody tr th {\n",
       "        vertical-align: top;\n",
       "    }\n",
       "</style>\n",
       "<table border=\"1\" class=\"dataframe\">\n",
       "  <thead>\n",
       "    <tr style=\"text-align: right;\">\n",
       "      <th></th>\n",
       "      <th>MSSubClass</th>\n",
       "      <th>MSZoning</th>\n",
       "      <th>LotFrontage</th>\n",
       "      <th>LotArea</th>\n",
       "      <th>LotShape</th>\n",
       "      <th>LandContour</th>\n",
       "      <th>LotConfig</th>\n",
       "      <th>Neighborhood</th>\n",
       "      <th>Condition1</th>\n",
       "      <th>BldgType</th>\n",
       "      <th>HouseStyle</th>\n",
       "      <th>OverallQual</th>\n",
       "      <th>OverallCond</th>\n",
       "      <th>YearBuilt</th>\n",
       "      <th>YearRemodAdd</th>\n",
       "      <th>Exterior1st</th>\n",
       "      <th>Exterior2nd</th>\n",
       "      <th>MasVnrType</th>\n",
       "      <th>MasVnrArea</th>\n",
       "      <th>ExterQual</th>\n",
       "      <th>ExterCond</th>\n",
       "      <th>Foundation</th>\n",
       "      <th>BsmtQual</th>\n",
       "      <th>BsmtCond</th>\n",
       "      <th>BsmtExposure</th>\n",
       "      <th>BsmtFinSF1</th>\n",
       "      <th>BsmtUnfSF</th>\n",
       "      <th>TotalBsmtSF</th>\n",
       "      <th>Heating</th>\n",
       "      <th>HeatingQC</th>\n",
       "      <th>CentralAir</th>\n",
       "      <th>Electrical</th>\n",
       "      <th>1stFlrSF</th>\n",
       "      <th>2ndFlrSF</th>\n",
       "      <th>GrLivArea</th>\n",
       "      <th>FullBath</th>\n",
       "      <th>KitchenQual</th>\n",
       "      <th>TotRmsAbvGrd</th>\n",
       "      <th>Functional</th>\n",
       "      <th>Fireplaces</th>\n",
       "      <th>GarageType</th>\n",
       "      <th>GarageYrBlt</th>\n",
       "      <th>GarageFinish</th>\n",
       "      <th>GarageCars</th>\n",
       "      <th>GarageArea</th>\n",
       "      <th>GarageQual</th>\n",
       "      <th>GarageCond</th>\n",
       "      <th>PavedDrive</th>\n",
       "      <th>WoodDeckSF</th>\n",
       "      <th>OpenPorchSF</th>\n",
       "      <th>EnclosedPorch</th>\n",
       "      <th>SaleType</th>\n",
       "      <th>SaleCondition</th>\n",
       "      <th>GrLivArea_log</th>\n",
       "      <th>LotFrontage_log</th>\n",
       "      <th>LotFrontage_sqrt</th>\n",
       "      <th>LotArea_log</th>\n",
       "      <th>LotArea_sqrt</th>\n",
       "      <th>MasVnrArea_log</th>\n",
       "      <th>MasVnrArea_sqrt</th>\n",
       "      <th>BsmtFinSF1_log</th>\n",
       "      <th>BsmtFinSF1_sqrt</th>\n",
       "      <th>BsmtUnfSF_log</th>\n",
       "      <th>BsmtUnfSF_sqrt</th>\n",
       "      <th>1stFlrSF_log</th>\n",
       "      <th>1stFlrSF_sqrt</th>\n",
       "      <th>2ndFlrSF_log</th>\n",
       "      <th>2ndFlrSF_sqrt</th>\n",
       "      <th>GarageArea_log</th>\n",
       "      <th>GarageArea_sqrt</th>\n",
       "      <th>WoodDeckSF_log</th>\n",
       "      <th>WoodDeckSF_sqrt</th>\n",
       "      <th>OpenPorchSF_log</th>\n",
       "      <th>OpenPorchSF_sqrt</th>\n",
       "      <th>OverallScore</th>\n",
       "      <th>ExtScore</th>\n",
       "      <th>GarageScore</th>\n",
       "      <th>BsmtScore</th>\n",
       "      <th>TotalSF</th>\n",
       "      <th>OutdoorSF</th>\n",
       "    </tr>\n",
       "  </thead>\n",
       "  <tbody>\n",
       "    <tr>\n",
       "      <th>0</th>\n",
       "      <td>SC20</td>\n",
       "      <td>RH</td>\n",
       "      <td>80.0</td>\n",
       "      <td>11622</td>\n",
       "      <td>0</td>\n",
       "      <td>Lvl</td>\n",
       "      <td>Inside</td>\n",
       "      <td>NAmes</td>\n",
       "      <td>Feedr</td>\n",
       "      <td>1Fam</td>\n",
       "      <td>1Story</td>\n",
       "      <td>5</td>\n",
       "      <td>6</td>\n",
       "      <td>1961</td>\n",
       "      <td>1961</td>\n",
       "      <td>VinylSd</td>\n",
       "      <td>VinylSd</td>\n",
       "      <td>None</td>\n",
       "      <td>0.0</td>\n",
       "      <td>2</td>\n",
       "      <td>2</td>\n",
       "      <td>CBlock</td>\n",
       "      <td>3</td>\n",
       "      <td>3</td>\n",
       "      <td>1</td>\n",
       "      <td>468.0</td>\n",
       "      <td>270.0</td>\n",
       "      <td>882.0</td>\n",
       "      <td>GasA</td>\n",
       "      <td>2</td>\n",
       "      <td>Y</td>\n",
       "      <td>SBrkr</td>\n",
       "      <td>896</td>\n",
       "      <td>0</td>\n",
       "      <td>896</td>\n",
       "      <td>1</td>\n",
       "      <td>2</td>\n",
       "      <td>5</td>\n",
       "      <td>Typ</td>\n",
       "      <td>0</td>\n",
       "      <td>Attchd</td>\n",
       "      <td>1961.0</td>\n",
       "      <td>Unf</td>\n",
       "      <td>1.0</td>\n",
       "      <td>730.0</td>\n",
       "      <td>3</td>\n",
       "      <td>3</td>\n",
       "      <td>Y</td>\n",
       "      <td>140</td>\n",
       "      <td>0</td>\n",
       "      <td>0</td>\n",
       "      <td>WD</td>\n",
       "      <td>Normal</td>\n",
       "      <td>2.952308</td>\n",
       "      <td>1.954243</td>\n",
       "      <td>9.486833</td>\n",
       "      <td>4.065654</td>\n",
       "      <td>107.851750</td>\n",
       "      <td>1.000000</td>\n",
       "      <td>3.162278</td>\n",
       "      <td>2.679428</td>\n",
       "      <td>21.863211</td>\n",
       "      <td>2.568202</td>\n",
       "      <td>16.733201</td>\n",
       "      <td>2.952308</td>\n",
       "      <td>29.933259</td>\n",
       "      <td>2.000000</td>\n",
       "      <td>10.000000</td>\n",
       "      <td>2.919078</td>\n",
       "      <td>28.809721</td>\n",
       "      <td>2.380211</td>\n",
       "      <td>15.491933</td>\n",
       "      <td>2.000000</td>\n",
       "      <td>10.000000</td>\n",
       "      <td>30</td>\n",
       "      <td>4</td>\n",
       "      <td>9</td>\n",
       "      <td>9</td>\n",
       "      <td>896</td>\n",
       "      <td>990.0</td>\n",
       "    </tr>\n",
       "    <tr>\n",
       "      <th>1</th>\n",
       "      <td>SC20</td>\n",
       "      <td>RL</td>\n",
       "      <td>81.0</td>\n",
       "      <td>14267</td>\n",
       "      <td>1</td>\n",
       "      <td>Lvl</td>\n",
       "      <td>Corner</td>\n",
       "      <td>NAmes</td>\n",
       "      <td>Norm</td>\n",
       "      <td>1Fam</td>\n",
       "      <td>1Story</td>\n",
       "      <td>6</td>\n",
       "      <td>6</td>\n",
       "      <td>1958</td>\n",
       "      <td>1958</td>\n",
       "      <td>Wd Sdng</td>\n",
       "      <td>Wd Sdng</td>\n",
       "      <td>BrkFace</td>\n",
       "      <td>108.0</td>\n",
       "      <td>2</td>\n",
       "      <td>2</td>\n",
       "      <td>CBlock</td>\n",
       "      <td>3</td>\n",
       "      <td>3</td>\n",
       "      <td>1</td>\n",
       "      <td>923.0</td>\n",
       "      <td>406.0</td>\n",
       "      <td>1329.0</td>\n",
       "      <td>GasA</td>\n",
       "      <td>2</td>\n",
       "      <td>Y</td>\n",
       "      <td>SBrkr</td>\n",
       "      <td>1329</td>\n",
       "      <td>0</td>\n",
       "      <td>1329</td>\n",
       "      <td>1</td>\n",
       "      <td>3</td>\n",
       "      <td>6</td>\n",
       "      <td>Typ</td>\n",
       "      <td>0</td>\n",
       "      <td>Attchd</td>\n",
       "      <td>1958.0</td>\n",
       "      <td>Unf</td>\n",
       "      <td>1.0</td>\n",
       "      <td>312.0</td>\n",
       "      <td>3</td>\n",
       "      <td>3</td>\n",
       "      <td>Y</td>\n",
       "      <td>393</td>\n",
       "      <td>36</td>\n",
       "      <td>0</td>\n",
       "      <td>WD</td>\n",
       "      <td>Normal</td>\n",
       "      <td>3.123525</td>\n",
       "      <td>1.959041</td>\n",
       "      <td>9.539392</td>\n",
       "      <td>4.154637</td>\n",
       "      <td>119.486401</td>\n",
       "      <td>2.071882</td>\n",
       "      <td>10.862780</td>\n",
       "      <td>2.969882</td>\n",
       "      <td>30.545049</td>\n",
       "      <td>2.704151</td>\n",
       "      <td>20.396078</td>\n",
       "      <td>3.123525</td>\n",
       "      <td>36.455452</td>\n",
       "      <td>2.000000</td>\n",
       "      <td>10.000000</td>\n",
       "      <td>2.614897</td>\n",
       "      <td>20.297783</td>\n",
       "      <td>2.692847</td>\n",
       "      <td>22.203603</td>\n",
       "      <td>2.133539</td>\n",
       "      <td>11.661904</td>\n",
       "      <td>36</td>\n",
       "      <td>4</td>\n",
       "      <td>9</td>\n",
       "      <td>9</td>\n",
       "      <td>1329</td>\n",
       "      <td>741.0</td>\n",
       "    </tr>\n",
       "    <tr>\n",
       "      <th>2</th>\n",
       "      <td>SC60</td>\n",
       "      <td>RL</td>\n",
       "      <td>74.0</td>\n",
       "      <td>13830</td>\n",
       "      <td>1</td>\n",
       "      <td>Lvl</td>\n",
       "      <td>Inside</td>\n",
       "      <td>Gilbert</td>\n",
       "      <td>Norm</td>\n",
       "      <td>1Fam</td>\n",
       "      <td>2Story</td>\n",
       "      <td>5</td>\n",
       "      <td>5</td>\n",
       "      <td>1997</td>\n",
       "      <td>1998</td>\n",
       "      <td>VinylSd</td>\n",
       "      <td>VinylSd</td>\n",
       "      <td>None</td>\n",
       "      <td>0.0</td>\n",
       "      <td>2</td>\n",
       "      <td>2</td>\n",
       "      <td>PConc</td>\n",
       "      <td>4</td>\n",
       "      <td>3</td>\n",
       "      <td>1</td>\n",
       "      <td>791.0</td>\n",
       "      <td>137.0</td>\n",
       "      <td>928.0</td>\n",
       "      <td>GasA</td>\n",
       "      <td>3</td>\n",
       "      <td>Y</td>\n",
       "      <td>SBrkr</td>\n",
       "      <td>928</td>\n",
       "      <td>701</td>\n",
       "      <td>1629</td>\n",
       "      <td>2</td>\n",
       "      <td>2</td>\n",
       "      <td>6</td>\n",
       "      <td>Typ</td>\n",
       "      <td>1</td>\n",
       "      <td>Attchd</td>\n",
       "      <td>1997.0</td>\n",
       "      <td>Fin</td>\n",
       "      <td>2.0</td>\n",
       "      <td>482.0</td>\n",
       "      <td>3</td>\n",
       "      <td>3</td>\n",
       "      <td>Y</td>\n",
       "      <td>212</td>\n",
       "      <td>34</td>\n",
       "      <td>0</td>\n",
       "      <td>WD</td>\n",
       "      <td>Normal</td>\n",
       "      <td>3.211921</td>\n",
       "      <td>1.924279</td>\n",
       "      <td>9.165151</td>\n",
       "      <td>4.141136</td>\n",
       "      <td>117.643529</td>\n",
       "      <td>1.000000</td>\n",
       "      <td>3.162278</td>\n",
       "      <td>2.903633</td>\n",
       "      <td>28.301943</td>\n",
       "      <td>2.374748</td>\n",
       "      <td>12.124356</td>\n",
       "      <td>2.967548</td>\n",
       "      <td>30.463092</td>\n",
       "      <td>2.903633</td>\n",
       "      <td>28.301943</td>\n",
       "      <td>2.764923</td>\n",
       "      <td>24.124676</td>\n",
       "      <td>2.494155</td>\n",
       "      <td>17.663522</td>\n",
       "      <td>2.127105</td>\n",
       "      <td>11.575837</td>\n",
       "      <td>25</td>\n",
       "      <td>4</td>\n",
       "      <td>9</td>\n",
       "      <td>12</td>\n",
       "      <td>1629</td>\n",
       "      <td>728.0</td>\n",
       "    </tr>\n",
       "    <tr>\n",
       "      <th>3</th>\n",
       "      <td>SC60</td>\n",
       "      <td>RL</td>\n",
       "      <td>78.0</td>\n",
       "      <td>9978</td>\n",
       "      <td>1</td>\n",
       "      <td>Lvl</td>\n",
       "      <td>Inside</td>\n",
       "      <td>Gilbert</td>\n",
       "      <td>Norm</td>\n",
       "      <td>1Fam</td>\n",
       "      <td>2Story</td>\n",
       "      <td>6</td>\n",
       "      <td>6</td>\n",
       "      <td>1998</td>\n",
       "      <td>1998</td>\n",
       "      <td>VinylSd</td>\n",
       "      <td>VinylSd</td>\n",
       "      <td>BrkFace</td>\n",
       "      <td>20.0</td>\n",
       "      <td>2</td>\n",
       "      <td>2</td>\n",
       "      <td>PConc</td>\n",
       "      <td>3</td>\n",
       "      <td>3</td>\n",
       "      <td>1</td>\n",
       "      <td>602.0</td>\n",
       "      <td>324.0</td>\n",
       "      <td>926.0</td>\n",
       "      <td>GasA</td>\n",
       "      <td>4</td>\n",
       "      <td>Y</td>\n",
       "      <td>SBrkr</td>\n",
       "      <td>926</td>\n",
       "      <td>678</td>\n",
       "      <td>1604</td>\n",
       "      <td>2</td>\n",
       "      <td>3</td>\n",
       "      <td>7</td>\n",
       "      <td>Typ</td>\n",
       "      <td>1</td>\n",
       "      <td>Attchd</td>\n",
       "      <td>1998.0</td>\n",
       "      <td>Fin</td>\n",
       "      <td>2.0</td>\n",
       "      <td>470.0</td>\n",
       "      <td>3</td>\n",
       "      <td>3</td>\n",
       "      <td>Y</td>\n",
       "      <td>360</td>\n",
       "      <td>36</td>\n",
       "      <td>0</td>\n",
       "      <td>WD</td>\n",
       "      <td>Normal</td>\n",
       "      <td>3.205204</td>\n",
       "      <td>1.944483</td>\n",
       "      <td>9.380832</td>\n",
       "      <td>3.999479</td>\n",
       "      <td>99.939982</td>\n",
       "      <td>1.477121</td>\n",
       "      <td>5.477226</td>\n",
       "      <td>2.786751</td>\n",
       "      <td>24.738634</td>\n",
       "      <td>2.627366</td>\n",
       "      <td>18.275667</td>\n",
       "      <td>2.966611</td>\n",
       "      <td>30.430248</td>\n",
       "      <td>2.890980</td>\n",
       "      <td>27.892651</td>\n",
       "      <td>2.755875</td>\n",
       "      <td>23.874673</td>\n",
       "      <td>2.662758</td>\n",
       "      <td>21.447611</td>\n",
       "      <td>2.133539</td>\n",
       "      <td>11.661904</td>\n",
       "      <td>36</td>\n",
       "      <td>4</td>\n",
       "      <td>9</td>\n",
       "      <td>9</td>\n",
       "      <td>1604</td>\n",
       "      <td>866.0</td>\n",
       "    </tr>\n",
       "    <tr>\n",
       "      <th>4</th>\n",
       "      <td>SC120</td>\n",
       "      <td>RL</td>\n",
       "      <td>43.0</td>\n",
       "      <td>5005</td>\n",
       "      <td>1</td>\n",
       "      <td>HLS</td>\n",
       "      <td>Inside</td>\n",
       "      <td>StoneBr</td>\n",
       "      <td>Norm</td>\n",
       "      <td>TwnhsE</td>\n",
       "      <td>1Story</td>\n",
       "      <td>8</td>\n",
       "      <td>5</td>\n",
       "      <td>1992</td>\n",
       "      <td>1992</td>\n",
       "      <td>HdBoard</td>\n",
       "      <td>HdBoard</td>\n",
       "      <td>None</td>\n",
       "      <td>0.0</td>\n",
       "      <td>3</td>\n",
       "      <td>2</td>\n",
       "      <td>PConc</td>\n",
       "      <td>4</td>\n",
       "      <td>3</td>\n",
       "      <td>1</td>\n",
       "      <td>263.0</td>\n",
       "      <td>1017.0</td>\n",
       "      <td>1280.0</td>\n",
       "      <td>GasA</td>\n",
       "      <td>4</td>\n",
       "      <td>Y</td>\n",
       "      <td>SBrkr</td>\n",
       "      <td>1280</td>\n",
       "      <td>0</td>\n",
       "      <td>1280</td>\n",
       "      <td>2</td>\n",
       "      <td>3</td>\n",
       "      <td>5</td>\n",
       "      <td>Typ</td>\n",
       "      <td>0</td>\n",
       "      <td>Attchd</td>\n",
       "      <td>1992.0</td>\n",
       "      <td>RFn</td>\n",
       "      <td>2.0</td>\n",
       "      <td>506.0</td>\n",
       "      <td>3</td>\n",
       "      <td>3</td>\n",
       "      <td>Y</td>\n",
       "      <td>0</td>\n",
       "      <td>82</td>\n",
       "      <td>0</td>\n",
       "      <td>WD</td>\n",
       "      <td>Normal</td>\n",
       "      <td>3.107210</td>\n",
       "      <td>1.724276</td>\n",
       "      <td>7.280110</td>\n",
       "      <td>3.700271</td>\n",
       "      <td>70.816665</td>\n",
       "      <td>1.000000</td>\n",
       "      <td>3.162278</td>\n",
       "      <td>2.436163</td>\n",
       "      <td>16.522712</td>\n",
       "      <td>3.048053</td>\n",
       "      <td>32.046841</td>\n",
       "      <td>3.107210</td>\n",
       "      <td>35.777088</td>\n",
       "      <td>2.000000</td>\n",
       "      <td>10.000000</td>\n",
       "      <td>2.782473</td>\n",
       "      <td>24.617067</td>\n",
       "      <td>2.000000</td>\n",
       "      <td>10.000000</td>\n",
       "      <td>2.260071</td>\n",
       "      <td>13.490738</td>\n",
       "      <td>40</td>\n",
       "      <td>6</td>\n",
       "      <td>9</td>\n",
       "      <td>12</td>\n",
       "      <td>1280</td>\n",
       "      <td>732.0</td>\n",
       "    </tr>\n",
       "  </tbody>\n",
       "</table>\n",
       "</div>"
      ],
      "text/plain": [
       "  MSSubClass MSZoning  LotFrontage  LotArea  LotShape LandContour LotConfig  \\\n",
       "0       SC20       RH         80.0    11622         0         Lvl    Inside   \n",
       "1       SC20       RL         81.0    14267         1         Lvl    Corner   \n",
       "2       SC60       RL         74.0    13830         1         Lvl    Inside   \n",
       "3       SC60       RL         78.0     9978         1         Lvl    Inside   \n",
       "4      SC120       RL         43.0     5005         1         HLS    Inside   \n",
       "\n",
       "  Neighborhood Condition1 BldgType HouseStyle  OverallQual  OverallCond  \\\n",
       "0        NAmes      Feedr     1Fam     1Story            5            6   \n",
       "1        NAmes       Norm     1Fam     1Story            6            6   \n",
       "2      Gilbert       Norm     1Fam     2Story            5            5   \n",
       "3      Gilbert       Norm     1Fam     2Story            6            6   \n",
       "4      StoneBr       Norm   TwnhsE     1Story            8            5   \n",
       "\n",
       "   YearBuilt  YearRemodAdd Exterior1st Exterior2nd MasVnrType  MasVnrArea  \\\n",
       "0       1961          1961     VinylSd     VinylSd       None         0.0   \n",
       "1       1958          1958     Wd Sdng     Wd Sdng    BrkFace       108.0   \n",
       "2       1997          1998     VinylSd     VinylSd       None         0.0   \n",
       "3       1998          1998     VinylSd     VinylSd    BrkFace        20.0   \n",
       "4       1992          1992     HdBoard     HdBoard       None         0.0   \n",
       "\n",
       "   ExterQual  ExterCond Foundation  BsmtQual  BsmtCond  BsmtExposure  \\\n",
       "0          2          2     CBlock         3         3             1   \n",
       "1          2          2     CBlock         3         3             1   \n",
       "2          2          2      PConc         4         3             1   \n",
       "3          2          2      PConc         3         3             1   \n",
       "4          3          2      PConc         4         3             1   \n",
       "\n",
       "   BsmtFinSF1  BsmtUnfSF  TotalBsmtSF Heating  HeatingQC CentralAir  \\\n",
       "0       468.0      270.0        882.0    GasA          2          Y   \n",
       "1       923.0      406.0       1329.0    GasA          2          Y   \n",
       "2       791.0      137.0        928.0    GasA          3          Y   \n",
       "3       602.0      324.0        926.0    GasA          4          Y   \n",
       "4       263.0     1017.0       1280.0    GasA          4          Y   \n",
       "\n",
       "  Electrical  1stFlrSF  2ndFlrSF  GrLivArea  FullBath  KitchenQual  \\\n",
       "0      SBrkr       896         0        896         1            2   \n",
       "1      SBrkr      1329         0       1329         1            3   \n",
       "2      SBrkr       928       701       1629         2            2   \n",
       "3      SBrkr       926       678       1604         2            3   \n",
       "4      SBrkr      1280         0       1280         2            3   \n",
       "\n",
       "   TotRmsAbvGrd Functional  Fireplaces GarageType  GarageYrBlt GarageFinish  \\\n",
       "0             5        Typ           0     Attchd       1961.0          Unf   \n",
       "1             6        Typ           0     Attchd       1958.0          Unf   \n",
       "2             6        Typ           1     Attchd       1997.0          Fin   \n",
       "3             7        Typ           1     Attchd       1998.0          Fin   \n",
       "4             5        Typ           0     Attchd       1992.0          RFn   \n",
       "\n",
       "   GarageCars  GarageArea  GarageQual  GarageCond PavedDrive  WoodDeckSF  \\\n",
       "0         1.0       730.0           3           3          Y         140   \n",
       "1         1.0       312.0           3           3          Y         393   \n",
       "2         2.0       482.0           3           3          Y         212   \n",
       "3         2.0       470.0           3           3          Y         360   \n",
       "4         2.0       506.0           3           3          Y           0   \n",
       "\n",
       "   OpenPorchSF  EnclosedPorch SaleType SaleCondition  GrLivArea_log  \\\n",
       "0            0              0       WD        Normal       2.952308   \n",
       "1           36              0       WD        Normal       3.123525   \n",
       "2           34              0       WD        Normal       3.211921   \n",
       "3           36              0       WD        Normal       3.205204   \n",
       "4           82              0       WD        Normal       3.107210   \n",
       "\n",
       "   LotFrontage_log  LotFrontage_sqrt  LotArea_log  LotArea_sqrt  \\\n",
       "0         1.954243          9.486833     4.065654    107.851750   \n",
       "1         1.959041          9.539392     4.154637    119.486401   \n",
       "2         1.924279          9.165151     4.141136    117.643529   \n",
       "3         1.944483          9.380832     3.999479     99.939982   \n",
       "4         1.724276          7.280110     3.700271     70.816665   \n",
       "\n",
       "   MasVnrArea_log  MasVnrArea_sqrt  BsmtFinSF1_log  BsmtFinSF1_sqrt  \\\n",
       "0        1.000000         3.162278        2.679428        21.863211   \n",
       "1        2.071882        10.862780        2.969882        30.545049   \n",
       "2        1.000000         3.162278        2.903633        28.301943   \n",
       "3        1.477121         5.477226        2.786751        24.738634   \n",
       "4        1.000000         3.162278        2.436163        16.522712   \n",
       "\n",
       "   BsmtUnfSF_log  BsmtUnfSF_sqrt  1stFlrSF_log  1stFlrSF_sqrt  2ndFlrSF_log  \\\n",
       "0       2.568202       16.733201      2.952308      29.933259      2.000000   \n",
       "1       2.704151       20.396078      3.123525      36.455452      2.000000   \n",
       "2       2.374748       12.124356      2.967548      30.463092      2.903633   \n",
       "3       2.627366       18.275667      2.966611      30.430248      2.890980   \n",
       "4       3.048053       32.046841      3.107210      35.777088      2.000000   \n",
       "\n",
       "   2ndFlrSF_sqrt  GarageArea_log  GarageArea_sqrt  WoodDeckSF_log  \\\n",
       "0      10.000000        2.919078        28.809721        2.380211   \n",
       "1      10.000000        2.614897        20.297783        2.692847   \n",
       "2      28.301943        2.764923        24.124676        2.494155   \n",
       "3      27.892651        2.755875        23.874673        2.662758   \n",
       "4      10.000000        2.782473        24.617067        2.000000   \n",
       "\n",
       "   WoodDeckSF_sqrt  OpenPorchSF_log  OpenPorchSF_sqrt  OverallScore  ExtScore  \\\n",
       "0        15.491933         2.000000         10.000000            30         4   \n",
       "1        22.203603         2.133539         11.661904            36         4   \n",
       "2        17.663522         2.127105         11.575837            25         4   \n",
       "3        21.447611         2.133539         11.661904            36         4   \n",
       "4        10.000000         2.260071         13.490738            40         6   \n",
       "\n",
       "   GarageScore  BsmtScore  TotalSF  OutdoorSF  \n",
       "0            9          9      896      990.0  \n",
       "1            9          9     1329      741.0  \n",
       "2            9         12     1629      728.0  \n",
       "3            9          9     1604      866.0  \n",
       "4            9         12     1280      732.0  "
      ]
     },
     "execution_count": 9,
     "metadata": {},
     "output_type": "execute_result"
    }
   ],
   "source": [
    "test_eng.head()"
   ]
  },
  {
   "cell_type": "markdown",
   "metadata": {},
   "source": [
    "<a id=\"section2\"></a>"
   ]
  },
  {
   "cell_type": "markdown",
   "metadata": {},
   "source": [
    "# Data preparation"
   ]
  },
  {
   "cell_type": "code",
   "execution_count": 10,
   "metadata": {
    "collapsed": true
   },
   "outputs": [],
   "source": [
    "def PrepareData(df, dataset):\n",
    "    \n",
    "    \"\"\"\n",
    "    Create dummy variables and normalize data for training\n",
    "    \"\"\"\n",
    "    \n",
    "    # Split features and target\n",
    "    if dataset == \"train\":\n",
    "        \n",
    "        target = [\"Log_SalePrice\", \"SalePrice\"]\n",
    "        c = [col for col in df.columns if col not in target]\n",
    "        X = df[c]\n",
    "        y = df[\"Log_SalePrice\"]\n",
    "        \n",
    "    else:\n",
    "        \n",
    "        X = df\n",
    "        y = None\n",
    "        \n",
    "    # Create dummy variables\n",
    "    X = pd.get_dummies(df)\n",
    "    \n",
    "    # Normalize data\n",
    "    X_scaled = StandardScaler().fit_transform(X)\n",
    "    X = pd.DataFrame(X_scaled, index = X.index, columns = X.columns)\n",
    "    \n",
    "    return X, y"
   ]
  },
  {
   "cell_type": "code",
   "execution_count": 11,
   "metadata": {
    "collapsed": true
   },
   "outputs": [],
   "source": [
    "X, y = PrepareData(train_eng, \"train\")"
   ]
  },
  {
   "cell_type": "code",
   "execution_count": 12,
   "metadata": {},
   "outputs": [
    {
     "data": {
      "text/plain": [
       "((1460, 225), (1460,))"
      ]
     },
     "execution_count": 12,
     "metadata": {},
     "output_type": "execute_result"
    }
   ],
   "source": [
    "X.shape, y.shape"
   ]
  },
  {
   "cell_type": "code",
   "execution_count": 13,
   "metadata": {
    "collapsed": true
   },
   "outputs": [],
   "source": [
    "test_final, _ = PrepareData(test_eng, \"test\")"
   ]
  },
  {
   "cell_type": "markdown",
   "metadata": {},
   "source": [
    "<a id=\"section3\"></a>"
   ]
  },
  {
   "cell_type": "markdown",
   "metadata": {},
   "source": [
    "# Feature Selection"
   ]
  },
  {
   "cell_type": "markdown",
   "metadata": {},
   "source": [
    "Feature selection constitutes one of the most important steps in the whole ML pipeline. For the purposes of this competition we considered two ways of feature selection:\n",
    "\n",
    "- Based on the EDA analysis of the previous notebook (new features + feature correlation + RF feature importance) I \"manually\" selected a set of features.<p>\n",
    "\n",
    "- Using RFECV (Recursive Feature Elimination and Cross-Validated selection of the best number of features). For more info about the technique, check [here](https://topepo.github.io/caret/recursive-feature-elimination.html)."
   ]
  },
  {
   "cell_type": "markdown",
   "metadata": {},
   "source": [
    "### Recursive Feature Elimination"
   ]
  },
  {
   "cell_type": "code",
   "execution_count": 15,
   "metadata": {
    "collapsed": true
   },
   "outputs": [],
   "source": [
    "estimator = RandomForestRegressor()"
   ]
  },
  {
   "cell_type": "code",
   "execution_count": 16,
   "metadata": {},
   "outputs": [
    {
     "data": {
      "text/plain": [
       "RFECV(cv=5,\n",
       "   estimator=RandomForestRegressor(bootstrap=True, criterion='mse', max_depth=None,\n",
       "           max_features='auto', max_leaf_nodes=None,\n",
       "           min_impurity_decrease=0.0, min_impurity_split=None,\n",
       "           min_samples_leaf=1, min_samples_split=2,\n",
       "           min_weight_fraction_leaf=0.0, n_estimators=10, n_jobs=1,\n",
       "           oob_score=False, random_state=None, verbose=0, warm_start=False),\n",
       "   n_jobs=1, scoring=make_scorer(rmse), step=1, verbose=0)"
      ]
     },
     "execution_count": 16,
     "metadata": {},
     "output_type": "execute_result"
    }
   ],
   "source": [
    "selector = RFECV(estimator, cv = 5, scoring = rmse)\n",
    "selector"
   ]
  },
  {
   "cell_type": "code",
   "execution_count": 17,
   "metadata": {
    "collapsed": true
   },
   "outputs": [],
   "source": [
    "% time selector.fit(X,y)"
   ]
  },
  {
   "cell_type": "code",
   "execution_count": 18,
   "metadata": {
    "collapsed": true
   },
   "outputs": [],
   "source": [
    "print(\"The number of selected features is: {}\".format(selector.n_features_))\n",
    "features_kept = X_train.columns.values[selector.support_]"
   ]
  },
  {
   "cell_type": "code",
   "execution_count": 19,
   "metadata": {
    "collapsed": true
   },
   "outputs": [],
   "source": [
    "# X_train = selector.transform(X_train)  \n",
    "# X_test = selector.transform(X_test)\n",
    "\n",
    "# # # transform it to a numpy array so later we can feed it to a neural network\n",
    "# # y_train = y_train.values "
   ]
  },
  {
   "cell_type": "markdown",
   "metadata": {},
   "source": [
    "### Features from EDA"
   ]
  },
  {
   "cell_type": "markdown",
   "metadata": {},
   "source": [
    "At the specific kernel, we will use as features the ones we concluded from the EDA of the previous notebook."
   ]
  },
  {
   "cell_type": "code",
   "execution_count": 128,
   "metadata": {
    "collapsed": true
   },
   "outputs": [],
   "source": [
    "# best_features = ['OverallQual',\n",
    "#                  'YearBuilt',\n",
    "#                  'TotalBsmtSF',\n",
    "#                  'GrLivArea',\n",
    "#                  'KitchenQual',\n",
    "#                  'GarageYrBlt',\n",
    "#                  'GarageCars',\n",
    "#                  '1stFlrSF_log',\n",
    "#                  'OverallScore',\n",
    "#                  'BsmtScore'\n",
    "#                 ]\n",
    "\n",
    "best_features = ['OverallQual',\n",
    "                 'YearBuilt',\n",
    "                 'ExterQual',\n",
    "                 'TotalBsmtSF',\n",
    "                 '1stFlrSF',\n",
    "                 'GrLivArea',\n",
    "                 'KitchenQual',\n",
    "                 'GarageYrBlt',\n",
    "                 'GarageCars',\n",
    "                 'GarageArea',\n",
    "                 'GrLivArea_log',\n",
    "                 '1stFlrSF_log',\n",
    "                 'GarageArea_log',\n",
    "                 'OverallScore',\n",
    "                 'BsmtScore',\n",
    "                 'TotalSF',\n",
    "                 'OutdoorSF'\n",
    "                ]"
   ]
  },
  {
   "cell_type": "code",
   "execution_count": 21,
   "metadata": {
    "collapsed": true
   },
   "outputs": [],
   "source": [
    "X =  X[best_features]"
   ]
  },
  {
   "cell_type": "code",
   "execution_count": 22,
   "metadata": {},
   "outputs": [
    {
     "data": {
      "text/plain": [
       "((1460, 17), (1460,))"
      ]
     },
     "execution_count": 22,
     "metadata": {},
     "output_type": "execute_result"
    }
   ],
   "source": [
    "X.shape, y.shape"
   ]
  },
  {
   "cell_type": "code",
   "execution_count": 23,
   "metadata": {
    "collapsed": true
   },
   "outputs": [],
   "source": [
    "test_final = test_final[best_features]"
   ]
  },
  {
   "cell_type": "code",
   "execution_count": 24,
   "metadata": {},
   "outputs": [
    {
     "data": {
      "text/plain": [
       "(1459, 17)"
      ]
     },
     "execution_count": 24,
     "metadata": {},
     "output_type": "execute_result"
    }
   ],
   "source": [
    "test_final.shape"
   ]
  },
  {
   "cell_type": "markdown",
   "metadata": {},
   "source": [
    "# Cross Validation Evaluation"
   ]
  },
  {
   "cell_type": "code",
   "execution_count": 90,
   "metadata": {
    "collapsed": true
   },
   "outputs": [],
   "source": [
    "def rmse(y, y_pred):\n",
    "    \n",
    "    return np.sqrt(mean_squared_error(y, y_pred))\n",
    "\n",
    "rmse_scorer = make_scorer(rmse)"
   ]
  },
  {
   "cell_type": "code",
   "execution_count": 70,
   "metadata": {
    "collapsed": true
   },
   "outputs": [],
   "source": [
    "scorer = make_scorer(mean_squared_error)\n",
    "n_folds = 5\n",
    "\n",
    "def rmse_cv(model):\n",
    "    \n",
    "    rmse = np.sqrt(cross_val_score(estimator = model,\n",
    "                                   X = X,\n",
    "                                   y = y, \n",
    "                                   cv = KFold(n_splits = n_folds),\n",
    "                                   scoring = scorer))\n",
    "    return rmse\n",
    "\n",
    "\n",
    "def BaseModel(clf, clf_name):\n",
    "    \n",
    "    cv_score = rmse_cv(clf)\n",
    "    \n",
    "    print(\"{} CV scores: {}\\n\".format(clf_name, cv_score))\n",
    "    print(\"{} mean CV score: {}\\n\".format(clf_name, cv_score.mean()))\n",
    "    \n",
    "    return cv_score.mean()"
   ]
  },
  {
   "cell_type": "markdown",
   "metadata": {},
   "source": [
    "# Train/Test Split"
   ]
  },
  {
   "cell_type": "code",
   "execution_count": 71,
   "metadata": {
    "collapsed": true
   },
   "outputs": [],
   "source": [
    "X_train, X_test, y_train, y_test = train_test_split(X, y, test_size = 0.2, random_state = 345)"
   ]
  },
  {
   "cell_type": "code",
   "execution_count": 72,
   "metadata": {},
   "outputs": [
    {
     "data": {
      "text/plain": [
       "((1168, 17), (1168,), (292, 17), (292,))"
      ]
     },
     "execution_count": 72,
     "metadata": {},
     "output_type": "execute_result"
    }
   ],
   "source": [
    "X_train.shape, y_train.shape, X_test.shape, y_test.shape"
   ]
  },
  {
   "cell_type": "markdown",
   "metadata": {},
   "source": [
    "<a id=\"section4\"></a>"
   ]
  },
  {
   "cell_type": "markdown",
   "metadata": {},
   "source": [
    "# Base Models"
   ]
  },
  {
   "cell_type": "markdown",
   "metadata": {},
   "source": [
    "### Ridge"
   ]
  },
  {
   "cell_type": "code",
   "execution_count": 244,
   "metadata": {},
   "outputs": [
    {
     "name": "stdout",
     "output_type": "stream",
     "text": [
      "Ridge best score: 0.06487808227708855 for alpha: 0.01\n"
     ]
    }
   ],
   "source": [
    "alphas_ridge = [0.01, 0.05, 0.1, 0.5, 1, 5, 10, 25, 30, 50, 60, 75, 85, 100, 200]\n",
    "ridge_cv = [rmse_cv(Ridge(alpha = alpha)).mean() for alpha in alphas_ridge]\n",
    "print(\"Ridge best score: {} for alpha: {}\".format(np.min(ridge_cv), alphas_ridge[np.argmin(ridge_cv)]))"
   ]
  },
  {
   "cell_type": "code",
   "execution_count": 246,
   "metadata": {},
   "outputs": [],
   "source": [
    "# plt.plot(alphas_ridge, ridge_cv)\n",
    "# plt.title(\"Ridge Regression\")\n",
    "# plt.xlabel(\"alphas\")\n",
    "# plt.ylabel(\"Mean CV rmse\")"
   ]
  },
  {
   "cell_type": "markdown",
   "metadata": {},
   "source": [
    "### Lasso"
   ]
  },
  {
   "cell_type": "code",
   "execution_count": 247,
   "metadata": {},
   "outputs": [
    {
     "name": "stdout",
     "output_type": "stream",
     "text": [
      "Lasso best score: 0.06487998791458632 for alpha: 0.0001\n"
     ]
    }
   ],
   "source": [
    "alphas_lasso = [0.0001, 0.0003, 0.0005, 0.001, 0.003, 0.005, 0.01, 0.03, 0.05, 0.1, 0.3, 0.5, 0.7, 1]\n",
    "lasso_cv = [rmse_cv(Lasso(alpha = alpha)).mean() for alpha in alphas_lasso]\n",
    "print(\"Lasso best score: {} for alpha: {}\".format(np.min(lasso_cv), alphas_lasso[np.argmin(lasso_cv)]))"
   ]
  },
  {
   "cell_type": "code",
   "execution_count": 249,
   "metadata": {},
   "outputs": [],
   "source": [
    "# plt.plot(alphas_lasso, lasso_cv)\n",
    "# plt.title(\"Lasso Regression\")\n",
    "# plt.xlabel(\"alphas\")\n",
    "# plt.ylabel(\"Mean CV rmse\")"
   ]
  },
  {
   "cell_type": "markdown",
   "metadata": {},
   "source": [
    "### Random Forest Regressor"
   ]
  },
  {
   "cell_type": "code",
   "execution_count": 73,
   "metadata": {},
   "outputs": [
    {
     "name": "stdout",
     "output_type": "stream",
     "text": [
      "Random Forest Regressor CV scores: [ 0.06362547  0.07319748  0.06686474  0.05613724  0.0653169 ]\n",
      "\n",
      "Random Forest Regressor mean CV score: 0.0650283643669628\n",
      "\n"
     ]
    }
   ],
   "source": [
    "rfg = RandomForestRegressor(n_estimators = 500, max_depth = 10)\n",
    "rfg_cv_mean = BaseModel(rfg, \"Random Forest Regressor\")"
   ]
  },
  {
   "cell_type": "markdown",
   "metadata": {},
   "source": [
    "### Extra Trees Regressor"
   ]
  },
  {
   "cell_type": "code",
   "execution_count": 79,
   "metadata": {},
   "outputs": [
    {
     "name": "stdout",
     "output_type": "stream",
     "text": [
      "Extra Trees Regressor CV scores: [ 0.06172316  0.07520781  0.06539212  0.05684571  0.06481254]\n",
      "\n",
      "Extra Trees Regressor mean CV score: 0.06479626853495599\n",
      "\n"
     ]
    }
   ],
   "source": [
    "ext = ExtraTreesRegressor(n_estimators = 500, max_depth = 10)\n",
    "ext_cv_mean = BaseModel(ext, \"Extra Trees Regressor\")"
   ]
  },
  {
   "cell_type": "markdown",
   "metadata": {},
   "source": [
    "### Gradient Boosting Regressor"
   ]
  },
  {
   "cell_type": "code",
   "execution_count": 30,
   "metadata": {},
   "outputs": [
    {
     "name": "stdout",
     "output_type": "stream",
     "text": [
      "Gradient Boosting Regressor CV scores: [ 0.06948038  0.08290694  0.06857909  0.06270282  0.07920474]\n",
      "\n",
      "Gradient Boosting Regressor mean CV score: 0.07257479378841744\n",
      "\n"
     ]
    }
   ],
   "source": [
    "gb = GradientBoostingRegressor(n_estimators = 500, max_depth = 10, learning_rate = 0.01)\n",
    "gb_cv_mean = BaseModel(gb, \"Gradient Boosting Regressor\")"
   ]
  },
  {
   "cell_type": "markdown",
   "metadata": {},
   "source": [
    "### AdaBoost Regressor"
   ]
  },
  {
   "cell_type": "code",
   "execution_count": 31,
   "metadata": {},
   "outputs": [
    {
     "name": "stdout",
     "output_type": "stream",
     "text": [
      "AdaBoost Regressor CV scores: [ 0.07920874  0.08062206  0.07912981  0.07224893  0.0792086 ]\n",
      "\n",
      "AdaBoost Regressor mean CV score: 0.0780836286747972\n",
      "\n"
     ]
    }
   ],
   "source": [
    "ada = AdaBoostRegressor(n_estimators=500, learning_rate=0.05, loss=\"exponential\")\n",
    "ada_cv_mean = BaseModel(ada, \"AdaBoost Regressor\")"
   ]
  },
  {
   "cell_type": "markdown",
   "metadata": {},
   "source": [
    "### XGBoost Regressor"
   ]
  },
  {
   "cell_type": "code",
   "execution_count": 32,
   "metadata": {},
   "outputs": [
    {
     "name": "stdout",
     "output_type": "stream",
     "text": [
      "XGBoost Regressor CV scores: [ 0.05799926  0.07219217  0.06176055  0.05408098  0.0577495 ]\n",
      "\n",
      "XGBoost Regressor mean CV score: 0.06075649179501998\n",
      "\n"
     ]
    }
   ],
   "source": [
    "xgb = XGBRegressor(n_estimators=500, learning_rate=0.05) #best model after stacked\n",
    "xgb_cv_mean = BaseModel(xgb, \"XGBoost Regressor\")"
   ]
  },
  {
   "cell_type": "markdown",
   "metadata": {},
   "source": [
    "XGBoost seems to perform better than any other predictor, so we will use GridSearchCV to find the optimal hyperparameters."
   ]
  },
  {
   "cell_type": "markdown",
   "metadata": {},
   "source": [
    "## Hyperparameter tuning"
   ]
  },
  {
   "cell_type": "code",
   "execution_count": 138,
   "metadata": {
    "collapsed": true
   },
   "outputs": [],
   "source": [
    "rfg_grid_params = {\"n_estimators\": [120, 300, 500, 800, 1200],\n",
    "                   \"max_depth\": [5, 8, 15, 25, 30, None]\n",
    "                  }\n",
    "\n",
    "ext_grid_params = {\"n_estimators\": [120, 300, 500, 800, 1200],\n",
    "                   \"max_depth\": [5, 8, 15, 25, 30, None]\n",
    "                  }\n",
    "\n",
    "gb_grid_params = {\"n_estimators\": [100, 200, 300, 500, 800, 1000],\n",
    "                  \"learning_rate\": [0.0001, 0.001, 0.01, 0.1, 0.2, 0.3, 0.5],\n",
    "                  \"max_depth\": [5,6,7,12]\n",
    "                 }\n",
    "\n",
    "ada_grid_params = {\"n_estimators\": [100, 200, 300, 500, 800, 1000],\n",
    "                   \"learning_rate\": [0.0001, 0.001, 0.01, 0.1, 0.2, 0.3, 0.5]\n",
    "                  }\n",
    "\n",
    "xgboost_grid_params = {\"n_estimators\": [100, 200, 300, 500, 800, 1000],\n",
    "                       \"learning_rate\": [0.0001, 0.001, 0.01, 0.1, 0.2, 0.3, 0.5],\n",
    "                       \"max_depth\": [5,6,7,12]\n",
    "                       }"
   ]
  },
  {
   "cell_type": "code",
   "execution_count": 139,
   "metadata": {
    "collapsed": true
   },
   "outputs": [],
   "source": [
    "def neg_rmse(y, y_pred):\n",
    "    \n",
    "    return -np.sqrt(mean_squared_error(y, y_pred))\n",
    "\n",
    "neg_rmse_scorer = make_scorer(neg_rmse)"
   ]
  },
  {
   "cell_type": "code",
   "execution_count": 142,
   "metadata": {},
   "outputs": [
    {
     "name": "stderr",
     "output_type": "stream",
     "text": [
      "C:\\Users\\asfak\\Anaconda3\\lib\\site-packages\\sklearn\\model_selection\\_split.py:597: Warning: The least populated class in y has only 1 members, which is too few. The minimum number of members in any class cannot be less than n_splits=5.\n",
      "  % (min_groups, self.n_splits)), Warning)\n"
     ]
    },
    {
     "name": "stdout",
     "output_type": "stream",
     "text": [
      "Wall time: 7min 46s\n"
     ]
    },
    {
     "name": "stderr",
     "output_type": "stream",
     "text": [
      "C:\\Users\\asfak\\Anaconda3\\lib\\site-packages\\sklearn\\model_selection\\_split.py:597: Warning: The least populated class in y has only 1 members, which is too few. The minimum number of members in any class cannot be less than n_splits=5.\n",
      "  % (min_groups, self.n_splits)), Warning)\n"
     ]
    },
    {
     "name": "stdout",
     "output_type": "stream",
     "text": [
      "Wall time: 4min 26s\n"
     ]
    },
    {
     "name": "stderr",
     "output_type": "stream",
     "text": [
      "C:\\Users\\asfak\\Anaconda3\\lib\\site-packages\\sklearn\\model_selection\\_split.py:597: Warning: The least populated class in y has only 1 members, which is too few. The minimum number of members in any class cannot be less than n_splits=5.\n",
      "  % (min_groups, self.n_splits)), Warning)\n"
     ]
    },
    {
     "name": "stdout",
     "output_type": "stream",
     "text": [
      "Wall time: 18min 24s\n"
     ]
    },
    {
     "name": "stderr",
     "output_type": "stream",
     "text": [
      "C:\\Users\\asfak\\Anaconda3\\lib\\site-packages\\sklearn\\model_selection\\_split.py:597: Warning: The least populated class in y has only 1 members, which is too few. The minimum number of members in any class cannot be less than n_splits=5.\n",
      "  % (min_groups, self.n_splits)), Warning)\n"
     ]
    },
    {
     "name": "stdout",
     "output_type": "stream",
     "text": [
      "Wall time: 4min 23s\n"
     ]
    },
    {
     "name": "stderr",
     "output_type": "stream",
     "text": [
      "C:\\Users\\asfak\\Anaconda3\\lib\\site-packages\\sklearn\\model_selection\\_split.py:597: Warning: The least populated class in y has only 1 members, which is too few. The minimum number of members in any class cannot be less than n_splits=5.\n",
      "  % (min_groups, self.n_splits)), Warning)\n"
     ]
    },
    {
     "name": "stdout",
     "output_type": "stream",
     "text": [
      "Wall time: 3min 57s\n"
     ]
    }
   ],
   "source": [
    "best_scores = []\n",
    "best_params = []\n",
    "best_models = []\n",
    "rmse_on_xtest = []\n",
    "\n",
    "models = [RandomForestRegressor(), ExtraTreesRegressor(), GradientBoostingRegressor(), AdaBoostRegressor(), XGBRegressor()]\n",
    "grids = [rfg_grid_params, ext_grid_params, gb_grid_params, ada_grid_params, xgboost_grid_params]\n",
    "\n",
    "\n",
    "   \n",
    "for i in range(len(models)):\n",
    "\n",
    "    # Define grid\n",
    "    grid = GridSearchCV(models[i], \n",
    "                        param_grid = grids[i], \n",
    "                        scoring = neg_rmse_scorer, \n",
    "                        cv = StratifiedKFold(n_splits = n_folds, shuffle = True, random_state = 23))\n",
    "\n",
    "    # Fit grid on train data\n",
    "    % time grid.fit(X_train, y_train)\n",
    "\n",
    "    # Store best score\n",
    "    best_scores.append(grid.best_score_)\n",
    "\n",
    "    # Store best params\n",
    "    best_params.append(grid.best_params_)\n",
    "\n",
    "    # Store best model\n",
    "    best_models.append(grid.best_estimator_)\n",
    "\n",
    "    # Predict on test\n",
    "    pred = grid.predict(X_test)\n",
    "\n",
    "    # rmse\n",
    "    rmse_on_xtest.append((np.sqrt(mean_squared_error(y_test, pred))))\n",
    "\n",
    "    "
   ]
  },
  {
   "cell_type": "code",
   "execution_count": 149,
   "metadata": {},
   "outputs": [
    {
     "name": "stdout",
     "output_type": "stream",
     "text": [
      "Random Forest Regressor's test score: 0.06401013212650618 for {'max_depth': None, 'n_estimators': 500}\n",
      "\n",
      "Extra Trees Regressor's test score: 0.06475530017240175 for {'max_depth': None, 'n_estimators': 800}\n",
      "\n",
      "Gradient Boosting Regressor's test score: 0.06141880124253172 for {'learning_rate': 0.01, 'max_depth': 5, 'n_estimators': 1000}\n",
      "\n",
      "AdaBoost Regressor's test score: 0.0786984390762377 for {'learning_rate': 0.1, 'n_estimators': 200}\n",
      "\n",
      "XGBoost Regressor's test score: 0.062017317913326216 for {'learning_rate': 0.1, 'max_depth': 5, 'n_estimators': 200}\n",
      "\n"
     ]
    }
   ],
   "source": [
    "m = [\"Random Forest Regressor\", \"Extra Trees Regressor\", \"Gradient Boosting Regressor\", \"AdaBoost Regressor\", \"XGBoost Regressor\"]\n",
    "\n",
    "for i in range(len(models)):\n",
    "    \n",
    "    print(\"{}'s test score: {} for {}\\n\".format(m[i], rmse_on_xtest[i], best_params[i]))"
   ]
  },
  {
   "cell_type": "code",
   "execution_count": 155,
   "metadata": {
    "collapsed": true
   },
   "outputs": [],
   "source": [
    "rfg_cv_preds = best_models[0].predict(X_test)\n",
    "ext_cv_preds = best_models[1].predict(X_test)\n",
    "gb_cv_preds = best_models[2].predict(X_test)\n",
    "ada_cv_preds = best_models[3].predict(X_test)\n",
    "xgb_cv_preds = best_models[4].predict(X_test)\n",
    "\n",
    "predictions = pd.DataFrame({\"RFG\": 10**rfg_cv_preds,\n",
    "                            \"EXT\": 10**ext_cv_preds, \n",
    "                            \"GB\": 10**gb_cv_preds,\n",
    "                            \"ADA\": 10**ada_cv_preds,\n",
    "                            \"XGB\": 10**xgb_cv_preds})"
   ]
  },
  {
   "cell_type": "code",
   "execution_count": 156,
   "metadata": {
    "scrolled": true
   },
   "outputs": [
    {
     "data": {
      "text/html": [
       "<div>\n",
       "<style>\n",
       "    .dataframe thead tr:only-child th {\n",
       "        text-align: right;\n",
       "    }\n",
       "\n",
       "    .dataframe thead th {\n",
       "        text-align: left;\n",
       "    }\n",
       "\n",
       "    .dataframe tbody tr th {\n",
       "        vertical-align: top;\n",
       "    }\n",
       "</style>\n",
       "<table border=\"1\" class=\"dataframe\">\n",
       "  <thead>\n",
       "    <tr style=\"text-align: right;\">\n",
       "      <th></th>\n",
       "      <th>ADA</th>\n",
       "      <th>EXT</th>\n",
       "      <th>GB</th>\n",
       "      <th>RFG</th>\n",
       "      <th>XGB</th>\n",
       "    </tr>\n",
       "  </thead>\n",
       "  <tbody>\n",
       "    <tr>\n",
       "      <th>0</th>\n",
       "      <td>270755.955759</td>\n",
       "      <td>329190.024664</td>\n",
       "      <td>301174.439354</td>\n",
       "      <td>306307.139252</td>\n",
       "      <td>315661.968750</td>\n",
       "    </tr>\n",
       "    <tr>\n",
       "      <th>1</th>\n",
       "      <td>191621.221994</td>\n",
       "      <td>176505.284042</td>\n",
       "      <td>171656.776627</td>\n",
       "      <td>176372.288717</td>\n",
       "      <td>171901.078125</td>\n",
       "    </tr>\n",
       "    <tr>\n",
       "      <th>2</th>\n",
       "      <td>89686.862009</td>\n",
       "      <td>94490.759960</td>\n",
       "      <td>99202.734520</td>\n",
       "      <td>92735.020758</td>\n",
       "      <td>84543.859375</td>\n",
       "    </tr>\n",
       "    <tr>\n",
       "      <th>3</th>\n",
       "      <td>54397.923948</td>\n",
       "      <td>46254.771620</td>\n",
       "      <td>38222.621486</td>\n",
       "      <td>49949.003955</td>\n",
       "      <td>34492.976562</td>\n",
       "    </tr>\n",
       "    <tr>\n",
       "      <th>4</th>\n",
       "      <td>106632.645136</td>\n",
       "      <td>125224.835451</td>\n",
       "      <td>125524.636063</td>\n",
       "      <td>124621.225538</td>\n",
       "      <td>124196.281250</td>\n",
       "    </tr>\n",
       "    <tr>\n",
       "      <th>5</th>\n",
       "      <td>123299.994034</td>\n",
       "      <td>154024.516848</td>\n",
       "      <td>159203.369689</td>\n",
       "      <td>157279.228499</td>\n",
       "      <td>146953.375000</td>\n",
       "    </tr>\n",
       "    <tr>\n",
       "      <th>6</th>\n",
       "      <td>116641.928921</td>\n",
       "      <td>115980.505849</td>\n",
       "      <td>112754.983778</td>\n",
       "      <td>108789.621371</td>\n",
       "      <td>113650.054688</td>\n",
       "    </tr>\n",
       "    <tr>\n",
       "      <th>7</th>\n",
       "      <td>103106.301956</td>\n",
       "      <td>118259.611623</td>\n",
       "      <td>114258.461442</td>\n",
       "      <td>117561.475312</td>\n",
       "      <td>115866.703125</td>\n",
       "    </tr>\n",
       "    <tr>\n",
       "      <th>8</th>\n",
       "      <td>388011.425962</td>\n",
       "      <td>505317.034098</td>\n",
       "      <td>621765.740547</td>\n",
       "      <td>520012.190304</td>\n",
       "      <td>612997.125000</td>\n",
       "    </tr>\n",
       "    <tr>\n",
       "      <th>9</th>\n",
       "      <td>120424.408365</td>\n",
       "      <td>146302.271036</td>\n",
       "      <td>146798.612101</td>\n",
       "      <td>145496.923272</td>\n",
       "      <td>145982.375000</td>\n",
       "    </tr>\n",
       "    <tr>\n",
       "      <th>10</th>\n",
       "      <td>265112.750392</td>\n",
       "      <td>252282.179817</td>\n",
       "      <td>282516.056884</td>\n",
       "      <td>262188.472601</td>\n",
       "      <td>270083.187500</td>\n",
       "    </tr>\n",
       "    <tr>\n",
       "      <th>11</th>\n",
       "      <td>194978.814324</td>\n",
       "      <td>179041.751393</td>\n",
       "      <td>183178.144836</td>\n",
       "      <td>182828.357623</td>\n",
       "      <td>183698.171875</td>\n",
       "    </tr>\n",
       "    <tr>\n",
       "      <th>12</th>\n",
       "      <td>191614.469405</td>\n",
       "      <td>236002.051566</td>\n",
       "      <td>220625.713339</td>\n",
       "      <td>216284.790656</td>\n",
       "      <td>208395.421875</td>\n",
       "    </tr>\n",
       "    <tr>\n",
       "      <th>13</th>\n",
       "      <td>138898.493923</td>\n",
       "      <td>172295.956546</td>\n",
       "      <td>179042.168133</td>\n",
       "      <td>168749.787609</td>\n",
       "      <td>174711.500000</td>\n",
       "    </tr>\n",
       "    <tr>\n",
       "      <th>14</th>\n",
       "      <td>300236.456474</td>\n",
       "      <td>248761.160463</td>\n",
       "      <td>264367.871752</td>\n",
       "      <td>251778.015483</td>\n",
       "      <td>267071.250000</td>\n",
       "    </tr>\n",
       "    <tr>\n",
       "      <th>15</th>\n",
       "      <td>237302.850286</td>\n",
       "      <td>282324.827431</td>\n",
       "      <td>245484.104541</td>\n",
       "      <td>253819.280631</td>\n",
       "      <td>268122.812500</td>\n",
       "    </tr>\n",
       "    <tr>\n",
       "      <th>16</th>\n",
       "      <td>148581.442131</td>\n",
       "      <td>136840.324942</td>\n",
       "      <td>141067.757802</td>\n",
       "      <td>139725.899286</td>\n",
       "      <td>134220.125000</td>\n",
       "    </tr>\n",
       "    <tr>\n",
       "      <th>17</th>\n",
       "      <td>106888.635169</td>\n",
       "      <td>128458.420561</td>\n",
       "      <td>126193.500111</td>\n",
       "      <td>128913.161708</td>\n",
       "      <td>128935.937500</td>\n",
       "    </tr>\n",
       "    <tr>\n",
       "      <th>18</th>\n",
       "      <td>177953.259496</td>\n",
       "      <td>187369.936453</td>\n",
       "      <td>192856.453029</td>\n",
       "      <td>191035.349912</td>\n",
       "      <td>188004.812500</td>\n",
       "    </tr>\n",
       "    <tr>\n",
       "      <th>19</th>\n",
       "      <td>314778.135502</td>\n",
       "      <td>296630.562636</td>\n",
       "      <td>294726.728419</td>\n",
       "      <td>299007.850062</td>\n",
       "      <td>306297.937500</td>\n",
       "    </tr>\n",
       "    <tr>\n",
       "      <th>20</th>\n",
       "      <td>345258.617454</td>\n",
       "      <td>372935.029498</td>\n",
       "      <td>378100.759486</td>\n",
       "      <td>370262.004985</td>\n",
       "      <td>362188.531250</td>\n",
       "    </tr>\n",
       "    <tr>\n",
       "      <th>21</th>\n",
       "      <td>123299.994034</td>\n",
       "      <td>143690.281920</td>\n",
       "      <td>143354.333976</td>\n",
       "      <td>137311.889092</td>\n",
       "      <td>138775.109375</td>\n",
       "    </tr>\n",
       "    <tr>\n",
       "      <th>22</th>\n",
       "      <td>211688.996851</td>\n",
       "      <td>249334.907745</td>\n",
       "      <td>229608.903720</td>\n",
       "      <td>236345.854492</td>\n",
       "      <td>231911.921875</td>\n",
       "    </tr>\n",
       "    <tr>\n",
       "      <th>23</th>\n",
       "      <td>120446.543978</td>\n",
       "      <td>125619.945285</td>\n",
       "      <td>129818.105530</td>\n",
       "      <td>132413.658981</td>\n",
       "      <td>129845.007812</td>\n",
       "    </tr>\n",
       "    <tr>\n",
       "      <th>24</th>\n",
       "      <td>119466.946496</td>\n",
       "      <td>140588.936307</td>\n",
       "      <td>144587.265189</td>\n",
       "      <td>141845.494847</td>\n",
       "      <td>135520.562500</td>\n",
       "    </tr>\n",
       "    <tr>\n",
       "      <th>25</th>\n",
       "      <td>328326.818277</td>\n",
       "      <td>302350.845921</td>\n",
       "      <td>311151.028782</td>\n",
       "      <td>302770.263134</td>\n",
       "      <td>315860.968750</td>\n",
       "    </tr>\n",
       "    <tr>\n",
       "      <th>26</th>\n",
       "      <td>156515.502127</td>\n",
       "      <td>159217.379141</td>\n",
       "      <td>153613.121267</td>\n",
       "      <td>154248.746532</td>\n",
       "      <td>152579.437500</td>\n",
       "    </tr>\n",
       "    <tr>\n",
       "      <th>27</th>\n",
       "      <td>274997.237356</td>\n",
       "      <td>328530.909737</td>\n",
       "      <td>332213.810247</td>\n",
       "      <td>326634.006633</td>\n",
       "      <td>352344.906250</td>\n",
       "    </tr>\n",
       "    <tr>\n",
       "      <th>28</th>\n",
       "      <td>162571.178737</td>\n",
       "      <td>183292.739057</td>\n",
       "      <td>181483.707198</td>\n",
       "      <td>183344.393604</td>\n",
       "      <td>180654.515625</td>\n",
       "    </tr>\n",
       "    <tr>\n",
       "      <th>29</th>\n",
       "      <td>155771.999880</td>\n",
       "      <td>144594.384022</td>\n",
       "      <td>137866.835077</td>\n",
       "      <td>143572.008994</td>\n",
       "      <td>145524.687500</td>\n",
       "    </tr>\n",
       "    <tr>\n",
       "      <th>...</th>\n",
       "      <td>...</td>\n",
       "      <td>...</td>\n",
       "      <td>...</td>\n",
       "      <td>...</td>\n",
       "      <td>...</td>\n",
       "    </tr>\n",
       "    <tr>\n",
       "      <th>262</th>\n",
       "      <td>120480.248374</td>\n",
       "      <td>129802.208356</td>\n",
       "      <td>128938.650708</td>\n",
       "      <td>120693.553063</td>\n",
       "      <td>132051.484375</td>\n",
       "    </tr>\n",
       "    <tr>\n",
       "      <th>263</th>\n",
       "      <td>146953.996964</td>\n",
       "      <td>123924.785218</td>\n",
       "      <td>118031.783573</td>\n",
       "      <td>122376.917286</td>\n",
       "      <td>113814.515625</td>\n",
       "    </tr>\n",
       "    <tr>\n",
       "      <th>264</th>\n",
       "      <td>267250.586174</td>\n",
       "      <td>274053.134595</td>\n",
       "      <td>264453.143172</td>\n",
       "      <td>257302.152286</td>\n",
       "      <td>263584.531250</td>\n",
       "    </tr>\n",
       "    <tr>\n",
       "      <th>265</th>\n",
       "      <td>150000.171940</td>\n",
       "      <td>129466.575343</td>\n",
       "      <td>121549.994123</td>\n",
       "      <td>128794.639327</td>\n",
       "      <td>123495.179688</td>\n",
       "    </tr>\n",
       "    <tr>\n",
       "      <th>266</th>\n",
       "      <td>160330.846668</td>\n",
       "      <td>153218.849093</td>\n",
       "      <td>155096.883221</td>\n",
       "      <td>158974.474644</td>\n",
       "      <td>160272.234375</td>\n",
       "    </tr>\n",
       "    <tr>\n",
       "      <th>267</th>\n",
       "      <td>151300.875627</td>\n",
       "      <td>149514.343725</td>\n",
       "      <td>147022.822479</td>\n",
       "      <td>156517.557975</td>\n",
       "      <td>157184.500000</td>\n",
       "    </tr>\n",
       "    <tr>\n",
       "      <th>268</th>\n",
       "      <td>110240.416795</td>\n",
       "      <td>130057.524476</td>\n",
       "      <td>126158.008500</td>\n",
       "      <td>127821.194863</td>\n",
       "      <td>123073.125000</td>\n",
       "    </tr>\n",
       "    <tr>\n",
       "      <th>269</th>\n",
       "      <td>141981.827974</td>\n",
       "      <td>137535.658046</td>\n",
       "      <td>126053.331412</td>\n",
       "      <td>132039.433034</td>\n",
       "      <td>129481.125000</td>\n",
       "    </tr>\n",
       "    <tr>\n",
       "      <th>270</th>\n",
       "      <td>316523.824776</td>\n",
       "      <td>296908.331190</td>\n",
       "      <td>271611.592829</td>\n",
       "      <td>294796.118490</td>\n",
       "      <td>280010.343750</td>\n",
       "    </tr>\n",
       "    <tr>\n",
       "      <th>271</th>\n",
       "      <td>207877.237807</td>\n",
       "      <td>221130.380059</td>\n",
       "      <td>211430.096369</td>\n",
       "      <td>217292.053482</td>\n",
       "      <td>208672.703125</td>\n",
       "    </tr>\n",
       "    <tr>\n",
       "      <th>272</th>\n",
       "      <td>157289.556533</td>\n",
       "      <td>148666.465851</td>\n",
       "      <td>151119.818697</td>\n",
       "      <td>146833.958694</td>\n",
       "      <td>155295.812500</td>\n",
       "    </tr>\n",
       "    <tr>\n",
       "      <th>273</th>\n",
       "      <td>121217.658807</td>\n",
       "      <td>132318.337861</td>\n",
       "      <td>133064.697565</td>\n",
       "      <td>129812.007369</td>\n",
       "      <td>136621.046875</td>\n",
       "    </tr>\n",
       "    <tr>\n",
       "      <th>274</th>\n",
       "      <td>129222.508664</td>\n",
       "      <td>157938.718223</td>\n",
       "      <td>152656.401189</td>\n",
       "      <td>156002.678189</td>\n",
       "      <td>152010.406250</td>\n",
       "    </tr>\n",
       "    <tr>\n",
       "      <th>275</th>\n",
       "      <td>244591.849258</td>\n",
       "      <td>244529.189449</td>\n",
       "      <td>239495.466073</td>\n",
       "      <td>237761.339826</td>\n",
       "      <td>256837.781250</td>\n",
       "    </tr>\n",
       "    <tr>\n",
       "      <th>276</th>\n",
       "      <td>119098.078073</td>\n",
       "      <td>118696.231860</td>\n",
       "      <td>119017.099566</td>\n",
       "      <td>119648.337698</td>\n",
       "      <td>120314.234375</td>\n",
       "    </tr>\n",
       "    <tr>\n",
       "      <th>277</th>\n",
       "      <td>182043.238770</td>\n",
       "      <td>194869.680315</td>\n",
       "      <td>204566.264232</td>\n",
       "      <td>195944.697142</td>\n",
       "      <td>208247.437500</td>\n",
       "    </tr>\n",
       "    <tr>\n",
       "      <th>278</th>\n",
       "      <td>191614.469405</td>\n",
       "      <td>163223.772778</td>\n",
       "      <td>174232.356103</td>\n",
       "      <td>165337.185818</td>\n",
       "      <td>170581.593750</td>\n",
       "    </tr>\n",
       "    <tr>\n",
       "      <th>279</th>\n",
       "      <td>211799.287279</td>\n",
       "      <td>246362.198485</td>\n",
       "      <td>251106.441670</td>\n",
       "      <td>221934.807506</td>\n",
       "      <td>254379.328125</td>\n",
       "    </tr>\n",
       "    <tr>\n",
       "      <th>280</th>\n",
       "      <td>113468.364362</td>\n",
       "      <td>137772.823094</td>\n",
       "      <td>140680.820613</td>\n",
       "      <td>138374.380021</td>\n",
       "      <td>136757.171875</td>\n",
       "    </tr>\n",
       "    <tr>\n",
       "      <th>281</th>\n",
       "      <td>161568.541461</td>\n",
       "      <td>182749.555570</td>\n",
       "      <td>178771.086973</td>\n",
       "      <td>183400.487863</td>\n",
       "      <td>182646.343750</td>\n",
       "    </tr>\n",
       "    <tr>\n",
       "      <th>282</th>\n",
       "      <td>329480.191836</td>\n",
       "      <td>323744.440153</td>\n",
       "      <td>334153.510881</td>\n",
       "      <td>324259.661323</td>\n",
       "      <td>329469.781250</td>\n",
       "    </tr>\n",
       "    <tr>\n",
       "      <th>283</th>\n",
       "      <td>116939.583777</td>\n",
       "      <td>103443.323314</td>\n",
       "      <td>112658.119791</td>\n",
       "      <td>109138.722960</td>\n",
       "      <td>115311.460938</td>\n",
       "    </tr>\n",
       "    <tr>\n",
       "      <th>284</th>\n",
       "      <td>93670.920182</td>\n",
       "      <td>101751.724924</td>\n",
       "      <td>98370.827431</td>\n",
       "      <td>96252.518533</td>\n",
       "      <td>89973.859375</td>\n",
       "    </tr>\n",
       "    <tr>\n",
       "      <th>285</th>\n",
       "      <td>382380.894300</td>\n",
       "      <td>444174.421334</td>\n",
       "      <td>475726.647251</td>\n",
       "      <td>447497.363213</td>\n",
       "      <td>449913.593750</td>\n",
       "    </tr>\n",
       "    <tr>\n",
       "      <th>286</th>\n",
       "      <td>318422.268009</td>\n",
       "      <td>314238.892220</td>\n",
       "      <td>305655.501948</td>\n",
       "      <td>314546.342717</td>\n",
       "      <td>317733.687500</td>\n",
       "    </tr>\n",
       "    <tr>\n",
       "      <th>287</th>\n",
       "      <td>129920.137738</td>\n",
       "      <td>139755.419532</td>\n",
       "      <td>138695.424262</td>\n",
       "      <td>132775.772756</td>\n",
       "      <td>148154.171875</td>\n",
       "    </tr>\n",
       "    <tr>\n",
       "      <th>288</th>\n",
       "      <td>234911.050883</td>\n",
       "      <td>285263.102338</td>\n",
       "      <td>271950.767006</td>\n",
       "      <td>281667.208049</td>\n",
       "      <td>274446.656250</td>\n",
       "    </tr>\n",
       "    <tr>\n",
       "      <th>289</th>\n",
       "      <td>153650.981997</td>\n",
       "      <td>150625.911508</td>\n",
       "      <td>160081.822642</td>\n",
       "      <td>147122.000348</td>\n",
       "      <td>146402.125000</td>\n",
       "    </tr>\n",
       "    <tr>\n",
       "      <th>290</th>\n",
       "      <td>125172.326608</td>\n",
       "      <td>128331.292333</td>\n",
       "      <td>131603.672600</td>\n",
       "      <td>132194.260777</td>\n",
       "      <td>133538.515625</td>\n",
       "    </tr>\n",
       "    <tr>\n",
       "      <th>291</th>\n",
       "      <td>116708.220741</td>\n",
       "      <td>129087.211746</td>\n",
       "      <td>120222.219336</td>\n",
       "      <td>124581.436198</td>\n",
       "      <td>126062.226562</td>\n",
       "    </tr>\n",
       "  </tbody>\n",
       "</table>\n",
       "<p>292 rows × 5 columns</p>\n",
       "</div>"
      ],
      "text/plain": [
       "               ADA            EXT             GB            RFG            XGB\n",
       "0    270755.955759  329190.024664  301174.439354  306307.139252  315661.968750\n",
       "1    191621.221994  176505.284042  171656.776627  176372.288717  171901.078125\n",
       "2     89686.862009   94490.759960   99202.734520   92735.020758   84543.859375\n",
       "3     54397.923948   46254.771620   38222.621486   49949.003955   34492.976562\n",
       "4    106632.645136  125224.835451  125524.636063  124621.225538  124196.281250\n",
       "5    123299.994034  154024.516848  159203.369689  157279.228499  146953.375000\n",
       "6    116641.928921  115980.505849  112754.983778  108789.621371  113650.054688\n",
       "7    103106.301956  118259.611623  114258.461442  117561.475312  115866.703125\n",
       "8    388011.425962  505317.034098  621765.740547  520012.190304  612997.125000\n",
       "9    120424.408365  146302.271036  146798.612101  145496.923272  145982.375000\n",
       "10   265112.750392  252282.179817  282516.056884  262188.472601  270083.187500\n",
       "11   194978.814324  179041.751393  183178.144836  182828.357623  183698.171875\n",
       "12   191614.469405  236002.051566  220625.713339  216284.790656  208395.421875\n",
       "13   138898.493923  172295.956546  179042.168133  168749.787609  174711.500000\n",
       "14   300236.456474  248761.160463  264367.871752  251778.015483  267071.250000\n",
       "15   237302.850286  282324.827431  245484.104541  253819.280631  268122.812500\n",
       "16   148581.442131  136840.324942  141067.757802  139725.899286  134220.125000\n",
       "17   106888.635169  128458.420561  126193.500111  128913.161708  128935.937500\n",
       "18   177953.259496  187369.936453  192856.453029  191035.349912  188004.812500\n",
       "19   314778.135502  296630.562636  294726.728419  299007.850062  306297.937500\n",
       "20   345258.617454  372935.029498  378100.759486  370262.004985  362188.531250\n",
       "21   123299.994034  143690.281920  143354.333976  137311.889092  138775.109375\n",
       "22   211688.996851  249334.907745  229608.903720  236345.854492  231911.921875\n",
       "23   120446.543978  125619.945285  129818.105530  132413.658981  129845.007812\n",
       "24   119466.946496  140588.936307  144587.265189  141845.494847  135520.562500\n",
       "25   328326.818277  302350.845921  311151.028782  302770.263134  315860.968750\n",
       "26   156515.502127  159217.379141  153613.121267  154248.746532  152579.437500\n",
       "27   274997.237356  328530.909737  332213.810247  326634.006633  352344.906250\n",
       "28   162571.178737  183292.739057  181483.707198  183344.393604  180654.515625\n",
       "29   155771.999880  144594.384022  137866.835077  143572.008994  145524.687500\n",
       "..             ...            ...            ...            ...            ...\n",
       "262  120480.248374  129802.208356  128938.650708  120693.553063  132051.484375\n",
       "263  146953.996964  123924.785218  118031.783573  122376.917286  113814.515625\n",
       "264  267250.586174  274053.134595  264453.143172  257302.152286  263584.531250\n",
       "265  150000.171940  129466.575343  121549.994123  128794.639327  123495.179688\n",
       "266  160330.846668  153218.849093  155096.883221  158974.474644  160272.234375\n",
       "267  151300.875627  149514.343725  147022.822479  156517.557975  157184.500000\n",
       "268  110240.416795  130057.524476  126158.008500  127821.194863  123073.125000\n",
       "269  141981.827974  137535.658046  126053.331412  132039.433034  129481.125000\n",
       "270  316523.824776  296908.331190  271611.592829  294796.118490  280010.343750\n",
       "271  207877.237807  221130.380059  211430.096369  217292.053482  208672.703125\n",
       "272  157289.556533  148666.465851  151119.818697  146833.958694  155295.812500\n",
       "273  121217.658807  132318.337861  133064.697565  129812.007369  136621.046875\n",
       "274  129222.508664  157938.718223  152656.401189  156002.678189  152010.406250\n",
       "275  244591.849258  244529.189449  239495.466073  237761.339826  256837.781250\n",
       "276  119098.078073  118696.231860  119017.099566  119648.337698  120314.234375\n",
       "277  182043.238770  194869.680315  204566.264232  195944.697142  208247.437500\n",
       "278  191614.469405  163223.772778  174232.356103  165337.185818  170581.593750\n",
       "279  211799.287279  246362.198485  251106.441670  221934.807506  254379.328125\n",
       "280  113468.364362  137772.823094  140680.820613  138374.380021  136757.171875\n",
       "281  161568.541461  182749.555570  178771.086973  183400.487863  182646.343750\n",
       "282  329480.191836  323744.440153  334153.510881  324259.661323  329469.781250\n",
       "283  116939.583777  103443.323314  112658.119791  109138.722960  115311.460938\n",
       "284   93670.920182  101751.724924   98370.827431   96252.518533   89973.859375\n",
       "285  382380.894300  444174.421334  475726.647251  447497.363213  449913.593750\n",
       "286  318422.268009  314238.892220  305655.501948  314546.342717  317733.687500\n",
       "287  129920.137738  139755.419532  138695.424262  132775.772756  148154.171875\n",
       "288  234911.050883  285263.102338  271950.767006  281667.208049  274446.656250\n",
       "289  153650.981997  150625.911508  160081.822642  147122.000348  146402.125000\n",
       "290  125172.326608  128331.292333  131603.672600  132194.260777  133538.515625\n",
       "291  116708.220741  129087.211746  120222.219336  124581.436198  126062.226562\n",
       "\n",
       "[292 rows x 5 columns]"
      ]
     },
     "execution_count": 156,
     "metadata": {},
     "output_type": "execute_result"
    }
   ],
   "source": [
    "predictions"
   ]
  },
  {
   "cell_type": "markdown",
   "metadata": {},
   "source": [
    "Let's take a look at how correlated are the predictions of the different models. The reason to do that, is because when you implement an ensemble/stacking model, you want your predictors to be as __dissimilar__ as possible, e.g. you want them to make __different mistakes__. If you have different models, that means that each model has captured different patterns of the data and an ensemble/stacking model is highly probable to outperform them."
   ]
  },
  {
   "cell_type": "code",
   "execution_count": 157,
   "metadata": {
    "scrolled": false
   },
   "outputs": [
    {
     "data": {
      "text/plain": [
       "<matplotlib.axes._subplots.AxesSubplot at 0x22c9f8ff470>"
      ]
     },
     "execution_count": 157,
     "metadata": {},
     "output_type": "execute_result"
    },
    {
     "data": {
      "image/png": "[encoded data removed]",
      "text/plain": [
       "<matplotlib.figure.Figure at 0x22c9f7b6ef0>"
      ]
     },
     "metadata": {},
     "output_type": "display_data"
    }
   ],
   "source": [
    "corrmat = predictions.corr()\n",
    "f, ax = plt.subplots(figsize=(18, 12))\n",
    "sns.heatmap(corrmat, vmax=.8, square=True, annot = True, cmap=\"RdYlGn\")"
   ]
  },
  {
   "cell_type": "code",
   "execution_count": 163,
   "metadata": {},
   "outputs": [
    {
     "data": {
      "text/plain": [
       "<seaborn.axisgrid.PairGrid at 0x22cba0d97f0>"
      ]
     },
     "execution_count": 163,
     "metadata": {},
     "output_type": "execute_result"
    },
    {
     "data": {
      "image/png": "[encoded data removed]",
      "text/plain": [
       "<matplotlib.figure.Figure at 0x22cba0d92e8>"
      ]
     },
     "metadata": {},
     "output_type": "display_data"
    }
   ],
   "source": [
    "sns.pairplot(predictions)"
   ]
  },
  {
   "cell_type": "markdown",
   "metadata": {},
   "source": [
    "From the above graphs it is obvious that all of the models are highly correlated. Although correlation in the context of regression is not necessarily bad (e.g. two models can be highly correlated but one can be much more accurate than the other), we may need to use only the ones that are the least correlated in ensemble models."
   ]
  },
  {
   "cell_type": "markdown",
   "metadata": {},
   "source": [
    "<a id=\"section5\"></a>"
   ]
  },
  {
   "cell_type": "markdown",
   "metadata": {},
   "source": [
    "# Ensemble Model"
   ]
  },
  {
   "cell_type": "code",
   "execution_count": 166,
   "metadata": {},
   "outputs": [],
   "source": [
    "class EnsembleRegressor(object):\n",
    "    \n",
    "    def __init__(self, regressors = None):\n",
    "        self.regressors = regressors\n",
    "        \n",
    "    def fit(self, x_train, y_train):\n",
    "        for regressor in self.regressors:\n",
    "            regressor.fit(x_train, y_train)\n",
    "            \n",
    "    def predict(self, x_test):\n",
    "        self.predictions = list()\n",
    "        for regressor in self.regressors:\n",
    "            self.predictions.append(regressor.predict(x_test).ravel())\n",
    "            \n",
    "        return np.mean(self.predictions, axis = 0)\n",
    "        "
   ]
  },
  {
   "cell_type": "code",
   "execution_count": 188,
   "metadata": {
    "collapsed": true
   },
   "outputs": [],
   "source": [
    "m1 = RandomForestRegressor(**best_params[0])\n",
    "m2 = ExtraTreesRegressor(**best_params[1])\n",
    "m3 = GradientBoostingRegressor(**best_params[2])\n",
    "m4 = AdaBoostRegressor(**best_params[3])\n",
    "m5 = XGBRegressor(**best_params[4])"
   ]
  },
  {
   "cell_type": "code",
   "execution_count": 189,
   "metadata": {},
   "outputs": [],
   "source": [
    "ens = EnsembleRegressor([m1,m2,m3,m4,m5])"
   ]
  },
  {
   "cell_type": "code",
   "execution_count": 190,
   "metadata": {
    "collapsed": true
   },
   "outputs": [],
   "source": [
    "ens.fit(X_train, y_train)"
   ]
  },
  {
   "cell_type": "code",
   "execution_count": 191,
   "metadata": {},
   "outputs": [],
   "source": [
    "p = ens.predict(X_test)"
   ]
  },
  {
   "cell_type": "code",
   "execution_count": 192,
   "metadata": {},
   "outputs": [
    {
     "data": {
      "text/plain": [
       "0.061873806414197936"
      ]
     },
     "execution_count": 192,
     "metadata": {},
     "output_type": "execute_result"
    }
   ],
   "source": [
    "np.sqrt(mean_squared_error(y_test, p))"
   ]
  },
  {
   "cell_type": "markdown",
   "metadata": {},
   "source": [
    "<a id=\"section6\"></a>"
   ]
  },
  {
   "cell_type": "markdown",
   "metadata": {},
   "source": [
    "# Stacking"
   ]
  },
  {
   "cell_type": "code",
   "execution_count": 203,
   "metadata": {},
   "outputs": [],
   "source": [
    "class StackingAveragedModels(object):\n",
    "    \n",
    "    def __init__(self, base_models, meta_model, n_folds=5):\n",
    "        self.base_models = base_models\n",
    "        self.meta_model = meta_model\n",
    "        self.n_folds = n_folds\n",
    "   \n",
    "    # We again fit the data on clones of the original models\n",
    "    def fit(self, X, y):\n",
    "        self.base_models_ = [list() for x in self.base_models]\n",
    "        self.meta_model_ = clone(self.meta_model)\n",
    "        kfold = KFold(n_splits=self.n_folds, shuffle=True, random_state=156)\n",
    "        \n",
    "        # Train cloned base models then create out-of-fold predictions\n",
    "        # that are needed to train the cloned meta-model\n",
    "        out_of_fold_predictions = np.zeros((X.shape[0], len(self.base_models)))\n",
    "        for i, model in enumerate(self.base_models):\n",
    "            for train_index, holdout_index in kfold.split(X, y):\n",
    "                instance = clone(model)\n",
    "                self.base_models_[i].append(instance)\n",
    "                instance.fit(X[train_index], y[train_index])\n",
    "                y_pred = instance.predict(X[holdout_index])\n",
    "                out_of_fold_predictions[holdout_index, i] = y_pred\n",
    "                \n",
    "        # Now train the cloned  meta-model using the out-of-fold predictions as new feature\n",
    "        self.meta_model_.fit(out_of_fold_predictions, y)\n",
    "        return self\n",
    "   \n",
    "    #Do the predictions of all base models on the test data and use the averaged predictions as \n",
    "    #meta-features for the final prediction which is done by the meta-model\n",
    "    def predict(self, X):\n",
    "        meta_features = np.column_stack([\n",
    "            np.column_stack([model.predict(X) for model in base_models]).mean(axis=1)\n",
    "            for base_models in self.base_models_ ])\n",
    "        return self.meta_model_.predict(meta_features)"
   ]
  },
  {
   "cell_type": "code",
   "execution_count": 236,
   "metadata": {
    "collapsed": true
   },
   "outputs": [],
   "source": [
    "stacked_model = StackingAveragedModels(base_models = (m1,m4,m5),\n",
    "                                       meta_model = Lasso(alpha = 0.0003))\n",
    "                                       #meta_model = XGBRegressor(n_estimators=500, learning_rate=0.05))"
   ]
  },
  {
   "cell_type": "code",
   "execution_count": 237,
   "metadata": {},
   "outputs": [
    {
     "name": "stdout",
     "output_type": "stream",
     "text": [
      "Wall time: 18.3 s\n"
     ]
    },
    {
     "data": {
      "text/plain": [
       "<__main__.StackingAveragedModels at 0x22cb92d8da0>"
      ]
     },
     "execution_count": 237,
     "metadata": {},
     "output_type": "execute_result"
    }
   ],
   "source": [
    "% time stacked_model.fit(X_train.values, y_train.values)"
   ]
  },
  {
   "cell_type": "code",
   "execution_count": 238,
   "metadata": {
    "collapsed": true
   },
   "outputs": [],
   "source": [
    "pred_stacked = stacked_model.predict(X_test.values)"
   ]
  },
  {
   "cell_type": "code",
   "execution_count": 239,
   "metadata": {},
   "outputs": [
    {
     "data": {
      "text/plain": [
       "0.060097023989477187"
      ]
     },
     "execution_count": 239,
     "metadata": {},
     "output_type": "execute_result"
    }
   ],
   "source": [
    "np.sqrt(mean_squared_error(y_test, pred_stacked))"
   ]
  },
  {
   "cell_type": "markdown",
   "metadata": {},
   "source": [
    "<a id=\"section7\"></a>"
   ]
  },
  {
   "cell_type": "markdown",
   "metadata": {},
   "source": [
    "# Try a Keras model"
   ]
  },
  {
   "cell_type": "code",
   "execution_count": null,
   "metadata": {},
   "outputs": [],
   "source": [
    "from keras.models import Sequential\n",
    "from keras.layers import Dense, Activation, Dropout\n",
    "from keras.callbacks import Callback\n",
    "from keras import backend as K"
   ]
  },
  {
   "cell_type": "code",
   "execution_count": null,
   "metadata": {},
   "outputs": [],
   "source": [
    "import keras\n",
    "print(keras.__version__)"
   ]
  },
  {
   "cell_type": "code",
   "execution_count": null,
   "metadata": {},
   "outputs": [],
   "source": [
    "n_features = X.shape[1]\n",
    "n_features"
   ]
  },
  {
   "cell_type": "code",
   "execution_count": null,
   "metadata": {
    "collapsed": true
   },
   "outputs": [],
   "source": [
    "def Model():\n",
    "    \n",
    "    model = Sequential()\n",
    "    \n",
    "    model.add(Dense(256, input_shape = (n_features,)))\n",
    "    model.add(Activation(\"sigmoid\"))\n",
    "    model.add(Dropout(0.4))\n",
    "    \n",
    "    model.add(Dense(64, input_shape = (256,)))\n",
    "    model.add(Activation(\"sigmoid\"))\n",
    "    model.add(Dropout(0.4))\n",
    "    \n",
    "    model.add(Dense(32, input_shape = (64,)))\n",
    "    model.add(Activation(\"sigmoid\"))\n",
    "    model.add(Dropout(0.4))\n",
    "    \n",
    "    model.add(Dense(1, input_shape = (32,)))\n",
    "    model.add(Activation(\"sigmoid\"))\n",
    "    \n",
    "    return model\n",
    "\n",
    "\n",
    "def Model1():\n",
    "    \n",
    "    model = Sequential()\n",
    "    \n",
    "    model.add(Dense(256, input_shape = (n_features,)))\n",
    "    model.add(Activation(\"relu\"))\n",
    "    model.add(Dropout(0.4))\n",
    "    \n",
    "    model.add(Dense(64, input_shape = (256,)))\n",
    "    model.add(Activation(\"relu\"))\n",
    "    model.add(Dropout(0.4))\n",
    "    \n",
    "    model.add(Dense(32, input_shape = (64,)))\n",
    "    model.add(Activation(\"relu\"))\n",
    "    model.add(Dropout(0.4))\n",
    "    \n",
    "    model.add(Dense(1, input_shape = (32,)))\n",
    "    model.add(Activation(\"relu\"))\n",
    "    \n",
    "    return model\n",
    "\n",
    "\n",
    "def Model2():\n",
    "    \n",
    "    model = Sequential()\n",
    "    \n",
    "    model.add(Dense(256, input_shape = (n_features,)))\n",
    "    model.add(Activation(\"relu\"))\n",
    "    \n",
    "    model.add(Dense(64, input_shape = (256,)))\n",
    "    model.add(Activation(\"relu\"))\n",
    "   \n",
    "    model.add(Dense(32, input_shape = (64,)))\n",
    "    model.add(Activation(\"relu\"))\n",
    "    \n",
    "    model.add(Dense(1, input_shape = (32,)))\n",
    "    model.add(Activation(\"relu\"))\n",
    "    \n",
    "    return model"
   ]
  },
  {
   "cell_type": "code",
   "execution_count": null,
   "metadata": {
    "collapsed": true
   },
   "outputs": [],
   "source": [
    "model = Model2()"
   ]
  },
  {
   "cell_type": "code",
   "execution_count": null,
   "metadata": {
    "collapsed": true
   },
   "outputs": [],
   "source": [
    "# Compile model\n",
    "model.compile(optimizer = \"Adam\", loss = \"mean_squared_error\")"
   ]
  },
  {
   "cell_type": "code",
   "execution_count": null,
   "metadata": {},
   "outputs": [],
   "source": [
    "# # Fit model\n",
    "% time history = model.fit(X_train, y_train, validation_data = (X_test, y_test), batch_size = 100, epochs = 300)"
   ]
  },
  {
   "cell_type": "code",
   "execution_count": null,
   "metadata": {
    "collapsed": true
   },
   "outputs": [],
   "source": [
    "# history =  model.fit(X_train, y_train, validation_split=0.2, batch_size = 100, epochs = 300)"
   ]
  },
  {
   "cell_type": "code",
   "execution_count": null,
   "metadata": {},
   "outputs": [],
   "source": [
    "print(history.history.keys())"
   ]
  },
  {
   "cell_type": "code",
   "execution_count": null,
   "metadata": {},
   "outputs": [],
   "source": [
    "# summarize history for loss\n",
    "plt.plot(history.history['loss'])\n",
    "plt.plot(history.history['val_loss'])\n",
    "plt.title('model loss')\n",
    "plt.ylabel('loss')\n",
    "plt.xlabel('epoch')\n",
    "plt.legend(['train', 'test'], loc='upper left')\n",
    "plt.show()"
   ]
  },
  {
   "cell_type": "code",
   "execution_count": null,
   "metadata": {},
   "outputs": [],
   "source": [
    "history.history[\"val_loss\"]"
   ]
  },
  {
   "cell_type": "code",
   "execution_count": null,
   "metadata": {},
   "outputs": [],
   "source": [
    "pred_k = model.predict(X_test)\n",
    "print(mean_squared_error(y_test, pred_k))"
   ]
  },
  {
   "cell_type": "markdown",
   "metadata": {},
   "source": [
    "Although the Keras model doesn't seem to perform bad in the training set, i get a very low score on the public LB."
   ]
  },
  {
   "cell_type": "markdown",
   "metadata": {},
   "source": [
    "# Best model"
   ]
  },
  {
   "cell_type": "code",
   "execution_count": 240,
   "metadata": {
    "collapsed": true
   },
   "outputs": [],
   "source": [
    "best = StackingAveragedModels(base_models = (m1,m4,m5),\n",
    "                              meta_model = Lasso(alpha = 0.0003))"
   ]
  },
  {
   "cell_type": "code",
   "execution_count": 241,
   "metadata": {},
   "outputs": [
    {
     "data": {
      "text/plain": [
       "<__main__.StackingAveragedModels at 0x22cb910cef0>"
      ]
     },
     "execution_count": 241,
     "metadata": {},
     "output_type": "execute_result"
    }
   ],
   "source": [
    "best.fit(X.values, y.values)"
   ]
  },
  {
   "cell_type": "markdown",
   "metadata": {},
   "source": [
    "# Test set predictions"
   ]
  },
  {
   "cell_type": "code",
   "execution_count": 242,
   "metadata": {},
   "outputs": [],
   "source": [
    "#final_predictions = 10**lr.predict(test_final)\n",
    "#final_predictions = 10**xgb.predict(test_final)\n",
    "#final_predictions = [i[0] for i in 10**model.predict(test_final)]\n",
    "#final_predictions = 10**xgb_best.predict(test_final)\n",
    "final_predictions = 10**best.predict(test_final.values)"
   ]
  },
  {
   "cell_type": "markdown",
   "metadata": {},
   "source": [
    "# Submit file"
   ]
  },
  {
   "cell_type": "code",
   "execution_count": 243,
   "metadata": {},
   "outputs": [],
   "source": [
    "submission = pd.DataFrame({\n",
    "                           \"Id\": test[\"Id\"],\n",
    "                           \"SalePrice\": final_predictions\n",
    "                         })\n",
    "submission.to_csv('Stacked_2.csv', index=False)\n"
   ]
  },
  {
   "cell_type": "code",
   "execution_count": null,
   "metadata": {
    "collapsed": true
   },
   "outputs": [],
   "source": []
  }
 ],
 "metadata": {
  "kernelspec": {
   "display_name": "Python 3",
   "language": "python",
   "name": "python3"
  },
  "language_info": {
   "codemirror_mode": {
    "name": "ipython",
    "version": 3
   },
   "file_extension": ".py",
   "mimetype": "text/x-python",
   "name": "python",
   "nbconvert_exporter": "python",
   "pygments_lexer": "ipython3",
   "version": "3.6.1"
  }
 },
 "nbformat": 4,
 "nbformat_minor": 2
}
